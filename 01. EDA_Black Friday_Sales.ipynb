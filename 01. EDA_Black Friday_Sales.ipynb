{
 "cells": [
  {
   "cell_type": "code",
   "execution_count": 1,
   "id": "79c92f76",
   "metadata": {},
   "outputs": [],
   "source": [
    "import numpy as np\n",
    "import pandas as pd\n",
    "import os\n",
    "\n",
    "# Visulaisation Tools\n",
    "import matplotlib.pyplot as plt\n",
    "import seaborn as sns\n",
    "sns.set_theme(style=\"darkgrid\")\n",
    "\n",
    "import warnings\n",
    "warnings.filterwarnings('ignore', category=FutureWarning)"
   ]
  },
  {
   "cell_type": "code",
   "execution_count": 2,
   "id": "9c968ee2",
   "metadata": {},
   "outputs": [
    {
     "data": {
      "text/plain": [
       "'C:\\\\Users\\\\mfaiz\\\\01 Jupyter Notes\\\\01. IMARTICUS\\\\Kaggle Projects'"
      ]
     },
     "execution_count": 2,
     "metadata": {},
     "output_type": "execute_result"
    }
   ],
   "source": [
    "# os.getcwd()"
   ]
  },
  {
   "cell_type": "code",
   "execution_count": 3,
   "id": "f24ae888",
   "metadata": {},
   "outputs": [],
   "source": [
    "# os.chdir('C:\\\\Users\\\\mfaiz\\\\Downloads\\\\BlackFriday')"
   ]
  },
  {
   "cell_type": "code",
   "execution_count": 2,
   "id": "0f5e7c7d",
   "metadata": {},
   "outputs": [],
   "source": [
    "df = pd.read_csv('Black_Friday_train.csv')"
   ]
  },
  {
   "cell_type": "code",
   "execution_count": 3,
   "id": "76ecb1c2",
   "metadata": {},
   "outputs": [
    {
     "data": {
      "text/html": [
       "<div>\n",
       "<style scoped>\n",
       "    .dataframe tbody tr th:only-of-type {\n",
       "        vertical-align: middle;\n",
       "    }\n",
       "\n",
       "    .dataframe tbody tr th {\n",
       "        vertical-align: top;\n",
       "    }\n",
       "\n",
       "    .dataframe thead th {\n",
       "        text-align: right;\n",
       "    }\n",
       "</style>\n",
       "<table border=\"1\" class=\"dataframe\">\n",
       "  <thead>\n",
       "    <tr style=\"text-align: right;\">\n",
       "      <th></th>\n",
       "      <th>User_ID</th>\n",
       "      <th>Product_ID</th>\n",
       "      <th>Gender</th>\n",
       "      <th>Age</th>\n",
       "      <th>Occupation</th>\n",
       "      <th>City_Category</th>\n",
       "      <th>Stay_In_Current_City_Years</th>\n",
       "      <th>Marital_Status</th>\n",
       "      <th>Product_Category_1</th>\n",
       "      <th>Product_Category_2</th>\n",
       "      <th>Product_Category_3</th>\n",
       "      <th>Purchase</th>\n",
       "    </tr>\n",
       "  </thead>\n",
       "  <tbody>\n",
       "    <tr>\n",
       "      <th>0</th>\n",
       "      <td>1000001</td>\n",
       "      <td>P00069042</td>\n",
       "      <td>F</td>\n",
       "      <td>0-17</td>\n",
       "      <td>10</td>\n",
       "      <td>A</td>\n",
       "      <td>2</td>\n",
       "      <td>0</td>\n",
       "      <td>3</td>\n",
       "      <td>NaN</td>\n",
       "      <td>NaN</td>\n",
       "      <td>8370</td>\n",
       "    </tr>\n",
       "    <tr>\n",
       "      <th>1</th>\n",
       "      <td>1000001</td>\n",
       "      <td>P00248942</td>\n",
       "      <td>F</td>\n",
       "      <td>0-17</td>\n",
       "      <td>10</td>\n",
       "      <td>A</td>\n",
       "      <td>2</td>\n",
       "      <td>0</td>\n",
       "      <td>1</td>\n",
       "      <td>6.0</td>\n",
       "      <td>14.0</td>\n",
       "      <td>15200</td>\n",
       "    </tr>\n",
       "    <tr>\n",
       "      <th>2</th>\n",
       "      <td>1000001</td>\n",
       "      <td>P00087842</td>\n",
       "      <td>F</td>\n",
       "      <td>0-17</td>\n",
       "      <td>10</td>\n",
       "      <td>A</td>\n",
       "      <td>2</td>\n",
       "      <td>0</td>\n",
       "      <td>12</td>\n",
       "      <td>NaN</td>\n",
       "      <td>NaN</td>\n",
       "      <td>1422</td>\n",
       "    </tr>\n",
       "    <tr>\n",
       "      <th>3</th>\n",
       "      <td>1000001</td>\n",
       "      <td>P00085442</td>\n",
       "      <td>F</td>\n",
       "      <td>0-17</td>\n",
       "      <td>10</td>\n",
       "      <td>A</td>\n",
       "      <td>2</td>\n",
       "      <td>0</td>\n",
       "      <td>12</td>\n",
       "      <td>14.0</td>\n",
       "      <td>NaN</td>\n",
       "      <td>1057</td>\n",
       "    </tr>\n",
       "    <tr>\n",
       "      <th>4</th>\n",
       "      <td>1000002</td>\n",
       "      <td>P00285442</td>\n",
       "      <td>M</td>\n",
       "      <td>55+</td>\n",
       "      <td>16</td>\n",
       "      <td>C</td>\n",
       "      <td>4+</td>\n",
       "      <td>0</td>\n",
       "      <td>8</td>\n",
       "      <td>NaN</td>\n",
       "      <td>NaN</td>\n",
       "      <td>7969</td>\n",
       "    </tr>\n",
       "  </tbody>\n",
       "</table>\n",
       "</div>"
      ],
      "text/plain": [
       "   User_ID Product_ID Gender   Age  Occupation City_Category  \\\n",
       "0  1000001  P00069042      F  0-17          10             A   \n",
       "1  1000001  P00248942      F  0-17          10             A   \n",
       "2  1000001  P00087842      F  0-17          10             A   \n",
       "3  1000001  P00085442      F  0-17          10             A   \n",
       "4  1000002  P00285442      M   55+          16             C   \n",
       "\n",
       "  Stay_In_Current_City_Years  Marital_Status  Product_Category_1  \\\n",
       "0                          2               0                   3   \n",
       "1                          2               0                   1   \n",
       "2                          2               0                  12   \n",
       "3                          2               0                  12   \n",
       "4                         4+               0                   8   \n",
       "\n",
       "   Product_Category_2  Product_Category_3  Purchase  \n",
       "0                 NaN                 NaN      8370  \n",
       "1                 6.0                14.0     15200  \n",
       "2                 NaN                 NaN      1422  \n",
       "3                14.0                 NaN      1057  \n",
       "4                 NaN                 NaN      7969  "
      ]
     },
     "execution_count": 3,
     "metadata": {},
     "output_type": "execute_result"
    }
   ],
   "source": [
    "df.head()"
   ]
  },
  {
   "cell_type": "code",
   "execution_count": 6,
   "id": "baf1acf1",
   "metadata": {},
   "outputs": [
    {
     "name": "stdout",
     "output_type": "stream",
     "text": [
      "<class 'pandas.core.frame.DataFrame'>\n",
      "RangeIndex: 550068 entries, 0 to 550067\n",
      "Data columns (total 12 columns):\n",
      " #   Column                      Non-Null Count   Dtype  \n",
      "---  ------                      --------------   -----  \n",
      " 0   User_ID                     550068 non-null  int64  \n",
      " 1   Product_ID                  550068 non-null  object \n",
      " 2   Gender                      550068 non-null  object \n",
      " 3   Age                         550068 non-null  object \n",
      " 4   Occupation                  550068 non-null  int64  \n",
      " 5   City_Category               550068 non-null  object \n",
      " 6   Stay_In_Current_City_Years  550068 non-null  object \n",
      " 7   Marital_Status              550068 non-null  int64  \n",
      " 8   Product_Category_1          550068 non-null  int64  \n",
      " 9   Product_Category_2          376430 non-null  float64\n",
      " 10  Product_Category_3          166821 non-null  float64\n",
      " 11  Purchase                    550068 non-null  int64  \n",
      "dtypes: float64(2), int64(5), object(5)\n",
      "memory usage: 50.4+ MB\n"
     ]
    }
   ],
   "source": [
    "df.info()"
   ]
  },
  {
   "cell_type": "code",
   "execution_count": 7,
   "id": "faea8de3",
   "metadata": {},
   "outputs": [
    {
     "data": {
      "text/plain": [
       "User_ID                        5891\n",
       "Product_ID                     3631\n",
       "Gender                            2\n",
       "Age                               7\n",
       "Occupation                       21\n",
       "City_Category                     3\n",
       "Stay_In_Current_City_Years        5\n",
       "Marital_Status                    2\n",
       "Product_Category_1               20\n",
       "Product_Category_2               17\n",
       "Product_Category_3               15\n",
       "Purchase                      18105\n",
       "dtype: int64"
      ]
     },
     "execution_count": 7,
     "metadata": {},
     "output_type": "execute_result"
    }
   ],
   "source": [
    "df.nunique()"
   ]
  },
  {
   "cell_type": "code",
   "execution_count": 8,
   "id": "ad6e3df9",
   "metadata": {},
   "outputs": [
    {
     "data": {
      "text/plain": [
       "int64      5\n",
       "object     5\n",
       "float64    2\n",
       "dtype: int64"
      ]
     },
     "execution_count": 8,
     "metadata": {},
     "output_type": "execute_result"
    }
   ],
   "source": [
    "# count data types\n",
    "\n",
    "df.dtypes.value_counts()"
   ]
  },
  {
   "cell_type": "code",
   "execution_count": 9,
   "id": "96b6a742",
   "metadata": {},
   "outputs": [
    {
     "data": {
      "text/plain": [
       "(550068, 12)"
      ]
     },
     "execution_count": 9,
     "metadata": {},
     "output_type": "execute_result"
    }
   ],
   "source": [
    "df.shape"
   ]
  },
  {
   "cell_type": "markdown",
   "id": "c472f622",
   "metadata": {},
   "source": [
    "# Checking the null values"
   ]
  },
  {
   "cell_type": "code",
   "execution_count": 10,
   "id": "0ca00aa9",
   "metadata": {},
   "outputs": [
    {
     "data": {
      "text/plain": [
       "User_ID                            0\n",
       "Product_ID                         0\n",
       "Gender                             0\n",
       "Age                                0\n",
       "Occupation                         0\n",
       "City_Category                      0\n",
       "Stay_In_Current_City_Years         0\n",
       "Marital_Status                     0\n",
       "Product_Category_1                 0\n",
       "Product_Category_2            173638\n",
       "Product_Category_3            383247\n",
       "Purchase                           0\n",
       "dtype: int64"
      ]
     },
     "execution_count": 10,
     "metadata": {},
     "output_type": "execute_result"
    }
   ],
   "source": [
    "# check if the data has any null values\n",
    "\n",
    "df.isnull().sum()"
   ]
  },
  {
   "cell_type": "raw",
   "id": "04ceef0d",
   "metadata": {},
   "source": [
    "Our data has a lot of null values in the 'Product_Category_2' and 'Product_Category_3' column. I don't think it is a good idea to remove all the empty rows from the data as this will lead to loss of a lot of data."
   ]
  },
  {
   "cell_type": "code",
   "execution_count": 11,
   "id": "a801b4ff",
   "metadata": {},
   "outputs": [
    {
     "data": {
      "image/png": "[encoded data removed]",
      "text/plain": [
       "<Figure size 640x480 with 2 Axes>"
      ]
     },
     "metadata": {},
     "output_type": "display_data"
    }
   ],
   "source": [
    "sns.heatmap(df.isnull())\n",
    "plt.show()"
   ]
  },
  {
   "cell_type": "code",
   "execution_count": 12,
   "id": "cee918eb",
   "metadata": {},
   "outputs": [
    {
     "data": {
      "text/plain": [
       "556885"
      ]
     },
     "execution_count": 12,
     "metadata": {},
     "output_type": "execute_result"
    }
   ],
   "source": [
    "# Total of all the Null values in the dataset\n",
    "\n",
    "df.isnull().sum().sum()"
   ]
  },
  {
   "cell_type": "markdown",
   "id": "de14d163",
   "metadata": {},
   "source": [
    "# Checking for duplicate"
   ]
  },
  {
   "cell_type": "code",
   "execution_count": 13,
   "id": "6c9ad3c3",
   "metadata": {},
   "outputs": [
    {
     "data": {
      "text/plain": [
       "0"
      ]
     },
     "execution_count": 13,
     "metadata": {},
     "output_type": "execute_result"
    }
   ],
   "source": [
    "df.duplicated().sum()"
   ]
  },
  {
   "cell_type": "code",
   "execution_count": 14,
   "id": "967f2d0e",
   "metadata": {},
   "outputs": [
    {
     "data": {
      "text/plain": [
       "Index(['User_ID', 'Product_ID', 'Gender', 'Age', 'Occupation', 'City_Category',\n",
       "       'Stay_In_Current_City_Years', 'Marital_Status', 'Product_Category_1',\n",
       "       'Product_Category_2', 'Product_Category_3', 'Purchase'],\n",
       "      dtype='object')"
      ]
     },
     "execution_count": 14,
     "metadata": {},
     "output_type": "execute_result"
    }
   ],
   "source": [
    "df.columns"
   ]
  },
  {
   "cell_type": "markdown",
   "id": "99d3849d",
   "metadata": {},
   "source": [
    "## Change the column names"
   ]
  },
  {
   "cell_type": "code",
   "execution_count": 15,
   "id": "600dbdaa",
   "metadata": {},
   "outputs": [],
   "source": [
    "df.rename(columns = {'Product_Category_1':'Product1','Product_Category_2':'Product2',\n",
    "                     'Product_Category_3':'Product3', 'Stay_In_Current_City_Years':'City_Stay'}, inplace = True)"
   ]
  },
  {
   "cell_type": "code",
   "execution_count": 16,
   "id": "1cf216e3",
   "metadata": {},
   "outputs": [
    {
     "data": {
      "text/plain": [
       "Index(['User_ID', 'Product_ID', 'Gender', 'Age', 'Occupation', 'City_Category',\n",
       "       'City_Stay', 'Marital_Status', 'Product1', 'Product2', 'Product3',\n",
       "       'Purchase'],\n",
       "      dtype='object')"
      ]
     },
     "execution_count": 16,
     "metadata": {},
     "output_type": "execute_result"
    }
   ],
   "source": [
    "df.columns"
   ]
  },
  {
   "cell_type": "markdown",
   "id": "f05dfb8c",
   "metadata": {},
   "source": [
    "## Droping out unnecessary data\n",
    "    'ProductID' column in the 'df' dataset seems unnecessary. And removing it from the dataset won't cause us any harm."
   ]
  },
  {
   "cell_type": "code",
   "execution_count": 17,
   "id": "5ae78a37",
   "metadata": {},
   "outputs": [
    {
     "data": {
      "text/html": [
       "<div>\n",
       "<style scoped>\n",
       "    .dataframe tbody tr th:only-of-type {\n",
       "        vertical-align: middle;\n",
       "    }\n",
       "\n",
       "    .dataframe tbody tr th {\n",
       "        vertical-align: top;\n",
       "    }\n",
       "\n",
       "    .dataframe thead th {\n",
       "        text-align: right;\n",
       "    }\n",
       "</style>\n",
       "<table border=\"1\" class=\"dataframe\">\n",
       "  <thead>\n",
       "    <tr style=\"text-align: right;\">\n",
       "      <th></th>\n",
       "      <th>User_ID</th>\n",
       "      <th>Gender</th>\n",
       "      <th>Age</th>\n",
       "      <th>Occupation</th>\n",
       "      <th>City_Category</th>\n",
       "      <th>City_Stay</th>\n",
       "      <th>Marital_Status</th>\n",
       "      <th>Product1</th>\n",
       "      <th>Product2</th>\n",
       "      <th>Product3</th>\n",
       "      <th>Purchase</th>\n",
       "    </tr>\n",
       "  </thead>\n",
       "  <tbody>\n",
       "    <tr>\n",
       "      <th>0</th>\n",
       "      <td>1000001</td>\n",
       "      <td>F</td>\n",
       "      <td>0-17</td>\n",
       "      <td>10</td>\n",
       "      <td>A</td>\n",
       "      <td>2</td>\n",
       "      <td>0</td>\n",
       "      <td>3</td>\n",
       "      <td>NaN</td>\n",
       "      <td>NaN</td>\n",
       "      <td>8370</td>\n",
       "    </tr>\n",
       "    <tr>\n",
       "      <th>1</th>\n",
       "      <td>1000001</td>\n",
       "      <td>F</td>\n",
       "      <td>0-17</td>\n",
       "      <td>10</td>\n",
       "      <td>A</td>\n",
       "      <td>2</td>\n",
       "      <td>0</td>\n",
       "      <td>1</td>\n",
       "      <td>6.0</td>\n",
       "      <td>14.0</td>\n",
       "      <td>15200</td>\n",
       "    </tr>\n",
       "    <tr>\n",
       "      <th>2</th>\n",
       "      <td>1000001</td>\n",
       "      <td>F</td>\n",
       "      <td>0-17</td>\n",
       "      <td>10</td>\n",
       "      <td>A</td>\n",
       "      <td>2</td>\n",
       "      <td>0</td>\n",
       "      <td>12</td>\n",
       "      <td>NaN</td>\n",
       "      <td>NaN</td>\n",
       "      <td>1422</td>\n",
       "    </tr>\n",
       "    <tr>\n",
       "      <th>3</th>\n",
       "      <td>1000001</td>\n",
       "      <td>F</td>\n",
       "      <td>0-17</td>\n",
       "      <td>10</td>\n",
       "      <td>A</td>\n",
       "      <td>2</td>\n",
       "      <td>0</td>\n",
       "      <td>12</td>\n",
       "      <td>14.0</td>\n",
       "      <td>NaN</td>\n",
       "      <td>1057</td>\n",
       "    </tr>\n",
       "    <tr>\n",
       "      <th>4</th>\n",
       "      <td>1000002</td>\n",
       "      <td>M</td>\n",
       "      <td>55+</td>\n",
       "      <td>16</td>\n",
       "      <td>C</td>\n",
       "      <td>4+</td>\n",
       "      <td>0</td>\n",
       "      <td>8</td>\n",
       "      <td>NaN</td>\n",
       "      <td>NaN</td>\n",
       "      <td>7969</td>\n",
       "    </tr>\n",
       "  </tbody>\n",
       "</table>\n",
       "</div>"
      ],
      "text/plain": [
       "   User_ID Gender   Age  Occupation City_Category City_Stay  Marital_Status  \\\n",
       "0  1000001      F  0-17          10             A         2               0   \n",
       "1  1000001      F  0-17          10             A         2               0   \n",
       "2  1000001      F  0-17          10             A         2               0   \n",
       "3  1000001      F  0-17          10             A         2               0   \n",
       "4  1000002      M   55+          16             C        4+               0   \n",
       "\n",
       "   Product1  Product2  Product3  Purchase  \n",
       "0         3       NaN       NaN      8370  \n",
       "1         1       6.0      14.0     15200  \n",
       "2        12       NaN       NaN      1422  \n",
       "3        12      14.0       NaN      1057  \n",
       "4         8       NaN       NaN      7969  "
      ]
     },
     "execution_count": 17,
     "metadata": {},
     "output_type": "execute_result"
    }
   ],
   "source": [
    "df.drop(['Product_ID'], inplace = True, axis = 'columns')\n",
    "df.head()"
   ]
  },
  {
   "cell_type": "markdown",
   "id": "68ab24a3",
   "metadata": {},
   "source": [
    "# DATA CLEANING PROCESS"
   ]
  },
  {
   "cell_type": "markdown",
   "id": "3fa3143e",
   "metadata": {},
   "source": [
    "## 1. Column : User_id"
   ]
  },
  {
   "cell_type": "code",
   "execution_count": 18,
   "id": "b60b133d",
   "metadata": {},
   "outputs": [
    {
     "data": {
      "text/plain": [
       "array([1000001, 1000002, 1000003, ..., 1004113, 1005391, 1001529],\n",
       "      dtype=int64)"
      ]
     },
     "execution_count": 18,
     "metadata": {},
     "output_type": "execute_result"
    }
   ],
   "source": [
    "df['User_ID'].unique()"
   ]
  },
  {
   "cell_type": "code",
   "execution_count": 19,
   "id": "174c0c2e",
   "metadata": {},
   "outputs": [
    {
     "data": {
      "text/plain": [
       "dtype('int64')"
      ]
     },
     "execution_count": 19,
     "metadata": {},
     "output_type": "execute_result"
    }
   ],
   "source": [
    "df['User_ID'].dtype  # there is no need to change in ['User_ID'] this column"
   ]
  },
  {
   "cell_type": "markdown",
   "id": "14569b57",
   "metadata": {},
   "source": [
    "## 2. Column : Gender"
   ]
  },
  {
   "cell_type": "code",
   "execution_count": 20,
   "id": "73526e0a",
   "metadata": {},
   "outputs": [
    {
     "data": {
      "text/plain": [
       "array(['F', 'M'], dtype=object)"
      ]
     },
     "execution_count": 20,
     "metadata": {},
     "output_type": "execute_result"
    }
   ],
   "source": [
    "df['Gender'].unique()"
   ]
  },
  {
   "cell_type": "code",
   "execution_count": 21,
   "id": "f75ba203",
   "metadata": {},
   "outputs": [
    {
     "data": {
      "text/plain": [
       "M    414259\n",
       "F    135809\n",
       "Name: Gender, dtype: int64"
      ]
     },
     "execution_count": 21,
     "metadata": {},
     "output_type": "execute_result"
    }
   ],
   "source": [
    "df['Gender'].value_counts()"
   ]
  },
  {
   "cell_type": "code",
   "execution_count": 22,
   "id": "ca7641fd",
   "metadata": {},
   "outputs": [
    {
     "data": {
      "text/plain": [
       "135809"
      ]
     },
     "execution_count": 22,
     "metadata": {},
     "output_type": "execute_result"
    }
   ],
   "source": [
    "df['Gender'].value_counts()['F']"
   ]
  },
  {
   "cell_type": "code",
   "execution_count": 23,
   "id": "e76ca330",
   "metadata": {},
   "outputs": [
    {
     "data": {
      "text/plain": [
       "414259"
      ]
     },
     "execution_count": 23,
     "metadata": {},
     "output_type": "execute_result"
    }
   ],
   "source": [
    "df['Gender'].value_counts()['M']"
   ]
  },
  {
   "cell_type": "code",
   "execution_count": 24,
   "id": "74e72a26",
   "metadata": {},
   "outputs": [
    {
     "data": {
      "text/html": [
       "<div>\n",
       "<style scoped>\n",
       "    .dataframe tbody tr th:only-of-type {\n",
       "        vertical-align: middle;\n",
       "    }\n",
       "\n",
       "    .dataframe tbody tr th {\n",
       "        vertical-align: top;\n",
       "    }\n",
       "\n",
       "    .dataframe thead th {\n",
       "        text-align: right;\n",
       "    }\n",
       "</style>\n",
       "<table border=\"1\" class=\"dataframe\">\n",
       "  <thead>\n",
       "    <tr style=\"text-align: right;\">\n",
       "      <th></th>\n",
       "      <th>User_ID</th>\n",
       "      <th>Gender</th>\n",
       "      <th>Age</th>\n",
       "      <th>Occupation</th>\n",
       "      <th>City_Category</th>\n",
       "      <th>City_Stay</th>\n",
       "      <th>Marital_Status</th>\n",
       "      <th>Product1</th>\n",
       "      <th>Product2</th>\n",
       "      <th>Product3</th>\n",
       "      <th>Purchase</th>\n",
       "    </tr>\n",
       "  </thead>\n",
       "  <tbody>\n",
       "    <tr>\n",
       "      <th>0</th>\n",
       "      <td>1000001</td>\n",
       "      <td>F</td>\n",
       "      <td>0-17</td>\n",
       "      <td>10</td>\n",
       "      <td>A</td>\n",
       "      <td>2</td>\n",
       "      <td>0</td>\n",
       "      <td>3</td>\n",
       "      <td>NaN</td>\n",
       "      <td>NaN</td>\n",
       "      <td>8370</td>\n",
       "    </tr>\n",
       "    <tr>\n",
       "      <th>1</th>\n",
       "      <td>1000001</td>\n",
       "      <td>F</td>\n",
       "      <td>0-17</td>\n",
       "      <td>10</td>\n",
       "      <td>A</td>\n",
       "      <td>2</td>\n",
       "      <td>0</td>\n",
       "      <td>1</td>\n",
       "      <td>6.0</td>\n",
       "      <td>14.0</td>\n",
       "      <td>15200</td>\n",
       "    </tr>\n",
       "    <tr>\n",
       "      <th>2</th>\n",
       "      <td>1000001</td>\n",
       "      <td>F</td>\n",
       "      <td>0-17</td>\n",
       "      <td>10</td>\n",
       "      <td>A</td>\n",
       "      <td>2</td>\n",
       "      <td>0</td>\n",
       "      <td>12</td>\n",
       "      <td>NaN</td>\n",
       "      <td>NaN</td>\n",
       "      <td>1422</td>\n",
       "    </tr>\n",
       "    <tr>\n",
       "      <th>3</th>\n",
       "      <td>1000001</td>\n",
       "      <td>F</td>\n",
       "      <td>0-17</td>\n",
       "      <td>10</td>\n",
       "      <td>A</td>\n",
       "      <td>2</td>\n",
       "      <td>0</td>\n",
       "      <td>12</td>\n",
       "      <td>14.0</td>\n",
       "      <td>NaN</td>\n",
       "      <td>1057</td>\n",
       "    </tr>\n",
       "    <tr>\n",
       "      <th>4</th>\n",
       "      <td>1000002</td>\n",
       "      <td>M</td>\n",
       "      <td>55+</td>\n",
       "      <td>16</td>\n",
       "      <td>C</td>\n",
       "      <td>4+</td>\n",
       "      <td>0</td>\n",
       "      <td>8</td>\n",
       "      <td>NaN</td>\n",
       "      <td>NaN</td>\n",
       "      <td>7969</td>\n",
       "    </tr>\n",
       "  </tbody>\n",
       "</table>\n",
       "</div>"
      ],
      "text/plain": [
       "   User_ID Gender   Age  Occupation City_Category City_Stay  Marital_Status  \\\n",
       "0  1000001      F  0-17          10             A         2               0   \n",
       "1  1000001      F  0-17          10             A         2               0   \n",
       "2  1000001      F  0-17          10             A         2               0   \n",
       "3  1000001      F  0-17          10             A         2               0   \n",
       "4  1000002      M   55+          16             C        4+               0   \n",
       "\n",
       "   Product1  Product2  Product3  Purchase  \n",
       "0         3       NaN       NaN      8370  \n",
       "1         1       6.0      14.0     15200  \n",
       "2        12       NaN       NaN      1422  \n",
       "3        12      14.0       NaN      1057  \n",
       "4         8       NaN       NaN      7969  "
      ]
     },
     "execution_count": 24,
     "metadata": {},
     "output_type": "execute_result"
    }
   ],
   "source": [
    "df.head()"
   ]
  },
  {
   "cell_type": "markdown",
   "id": "15e0e812",
   "metadata": {},
   "source": [
    "## 3. Column AGE"
   ]
  },
  {
   "cell_type": "code",
   "execution_count": 25,
   "id": "8ecb81ed",
   "metadata": {},
   "outputs": [
    {
     "data": {
      "text/plain": [
       "array(['0-17', '55+', '26-35', '46-50', '51-55', '36-45', '18-25'],\n",
       "      dtype=object)"
      ]
     },
     "execution_count": 25,
     "metadata": {},
     "output_type": "execute_result"
    }
   ],
   "source": [
    "df['Age'].unique()"
   ]
  },
  {
   "cell_type": "code",
   "execution_count": 26,
   "id": "cdd41151",
   "metadata": {},
   "outputs": [
    {
     "data": {
      "text/plain": [
       "dtype('O')"
      ]
     },
     "execution_count": 26,
     "metadata": {},
     "output_type": "execute_result"
    }
   ],
   "source": [
    "df['Age'].dtype"
   ]
  },
  {
   "cell_type": "raw",
   "id": "aade5ec0",
   "metadata": {},
   "source": [
    "The data in this column is in intervals. We will name these intervals as Child,Teenage, Adult, old etc"
   ]
  },
  {
   "cell_type": "code",
   "execution_count": 27,
   "id": "045c5519",
   "metadata": {},
   "outputs": [],
   "source": [
    "def Ages(value):\n",
    "    if '0-17' in value:\n",
    "        value = value.replace('0-17', 'Child')\n",
    "        return str(value)\n",
    "    elif '18-25' in value:\n",
    "        value = value.replace('18-25', 'Teenage')\n",
    "        return str(value)\n",
    "    elif '26-35' in value:\n",
    "        value = value.replace('26-35', 'Adult')\n",
    "        return str(value)\n",
    "    elif '36-45' in value:\n",
    "        value = value.replace('36-45', 'Adult')\n",
    "        return str(value)\n",
    "    elif '46-50' in value:\n",
    "        value = value.replace('46-50', 'Adult')\n",
    "        return str(value)\n",
    "    elif '51-55' in value:\n",
    "        value = value.replace('51-55', 'Old')\n",
    "        return str(value)\n",
    "    else:\n",
    "        value = value.replace('55+', 'Old')\n",
    "        return str(value)\n",
    "        \n",
    "df['Age'] = df['Age'].apply(Ages)\n",
    "    "
   ]
  },
  {
   "cell_type": "code",
   "execution_count": 28,
   "id": "51e91686",
   "metadata": {},
   "outputs": [
    {
     "data": {
      "text/html": [
       "<div>\n",
       "<style scoped>\n",
       "    .dataframe tbody tr th:only-of-type {\n",
       "        vertical-align: middle;\n",
       "    }\n",
       "\n",
       "    .dataframe tbody tr th {\n",
       "        vertical-align: top;\n",
       "    }\n",
       "\n",
       "    .dataframe thead th {\n",
       "        text-align: right;\n",
       "    }\n",
       "</style>\n",
       "<table border=\"1\" class=\"dataframe\">\n",
       "  <thead>\n",
       "    <tr style=\"text-align: right;\">\n",
       "      <th></th>\n",
       "      <th>User_ID</th>\n",
       "      <th>Gender</th>\n",
       "      <th>Age</th>\n",
       "      <th>Occupation</th>\n",
       "      <th>City_Category</th>\n",
       "      <th>City_Stay</th>\n",
       "      <th>Marital_Status</th>\n",
       "      <th>Product1</th>\n",
       "      <th>Product2</th>\n",
       "      <th>Product3</th>\n",
       "      <th>Purchase</th>\n",
       "    </tr>\n",
       "  </thead>\n",
       "  <tbody>\n",
       "    <tr>\n",
       "      <th>0</th>\n",
       "      <td>1000001</td>\n",
       "      <td>F</td>\n",
       "      <td>Child</td>\n",
       "      <td>10</td>\n",
       "      <td>A</td>\n",
       "      <td>2</td>\n",
       "      <td>0</td>\n",
       "      <td>3</td>\n",
       "      <td>NaN</td>\n",
       "      <td>NaN</td>\n",
       "      <td>8370</td>\n",
       "    </tr>\n",
       "    <tr>\n",
       "      <th>1</th>\n",
       "      <td>1000001</td>\n",
       "      <td>F</td>\n",
       "      <td>Child</td>\n",
       "      <td>10</td>\n",
       "      <td>A</td>\n",
       "      <td>2</td>\n",
       "      <td>0</td>\n",
       "      <td>1</td>\n",
       "      <td>6.0</td>\n",
       "      <td>14.0</td>\n",
       "      <td>15200</td>\n",
       "    </tr>\n",
       "    <tr>\n",
       "      <th>2</th>\n",
       "      <td>1000001</td>\n",
       "      <td>F</td>\n",
       "      <td>Child</td>\n",
       "      <td>10</td>\n",
       "      <td>A</td>\n",
       "      <td>2</td>\n",
       "      <td>0</td>\n",
       "      <td>12</td>\n",
       "      <td>NaN</td>\n",
       "      <td>NaN</td>\n",
       "      <td>1422</td>\n",
       "    </tr>\n",
       "    <tr>\n",
       "      <th>3</th>\n",
       "      <td>1000001</td>\n",
       "      <td>F</td>\n",
       "      <td>Child</td>\n",
       "      <td>10</td>\n",
       "      <td>A</td>\n",
       "      <td>2</td>\n",
       "      <td>0</td>\n",
       "      <td>12</td>\n",
       "      <td>14.0</td>\n",
       "      <td>NaN</td>\n",
       "      <td>1057</td>\n",
       "    </tr>\n",
       "    <tr>\n",
       "      <th>4</th>\n",
       "      <td>1000002</td>\n",
       "      <td>M</td>\n",
       "      <td>Old</td>\n",
       "      <td>16</td>\n",
       "      <td>C</td>\n",
       "      <td>4+</td>\n",
       "      <td>0</td>\n",
       "      <td>8</td>\n",
       "      <td>NaN</td>\n",
       "      <td>NaN</td>\n",
       "      <td>7969</td>\n",
       "    </tr>\n",
       "  </tbody>\n",
       "</table>\n",
       "</div>"
      ],
      "text/plain": [
       "   User_ID Gender    Age  Occupation City_Category City_Stay  Marital_Status  \\\n",
       "0  1000001      F  Child          10             A         2               0   \n",
       "1  1000001      F  Child          10             A         2               0   \n",
       "2  1000001      F  Child          10             A         2               0   \n",
       "3  1000001      F  Child          10             A         2               0   \n",
       "4  1000002      M    Old          16             C        4+               0   \n",
       "\n",
       "   Product1  Product2  Product3  Purchase  \n",
       "0         3       NaN       NaN      8370  \n",
       "1         1       6.0      14.0     15200  \n",
       "2        12       NaN       NaN      1422  \n",
       "3        12      14.0       NaN      1057  \n",
       "4         8       NaN       NaN      7969  "
      ]
     },
     "execution_count": 28,
     "metadata": {},
     "output_type": "execute_result"
    }
   ],
   "source": [
    "df.head()"
   ]
  },
  {
   "cell_type": "markdown",
   "id": "3730e3d7",
   "metadata": {},
   "source": [
    "* Over here we have replaced the age groups according to the categories.\n",
    "* We have replaced numerical data into categorical data.\n",
    "* The types of categories are: Child, Adult, Teenage and Old.\n",
    "1. 0-17 -> Child\n",
    "2. 18-25 -> Teenage\n",
    "3. 26-35 -> Adult\n",
    "4. 36-45 -> Adult\n",
    "5. 46-50 -> Adult\n",
    "6. 51-55 -> Old\n",
    "7. 55+ -> Old"
   ]
  },
  {
   "cell_type": "markdown",
   "id": "71be0c8b",
   "metadata": {},
   "source": [
    "## 4. Column : Occupation"
   ]
  },
  {
   "cell_type": "code",
   "execution_count": 29,
   "id": "c392bb2c",
   "metadata": {},
   "outputs": [
    {
     "data": {
      "text/plain": [
       "array([10, 16, 15,  7, 20,  9,  1, 12, 17,  0,  3,  4, 11,  8, 19,  2, 18,\n",
       "        5, 14, 13,  6], dtype=int64)"
      ]
     },
     "execution_count": 29,
     "metadata": {},
     "output_type": "execute_result"
    }
   ],
   "source": [
    "df['Occupation'].unique()"
   ]
  },
  {
   "cell_type": "markdown",
   "id": "7519ef3d",
   "metadata": {},
   "source": [
    "## 5. column : City_category"
   ]
  },
  {
   "cell_type": "code",
   "execution_count": 30,
   "id": "8ddf5b8d",
   "metadata": {},
   "outputs": [
    {
     "data": {
      "text/plain": [
       "array(['A', 'C', 'B'], dtype=object)"
      ]
     },
     "execution_count": 30,
     "metadata": {},
     "output_type": "execute_result"
    }
   ],
   "source": [
    "df['City_Category'].unique()"
   ]
  },
  {
   "cell_type": "markdown",
   "id": "e8d055a0",
   "metadata": {},
   "source": [
    "## 6. Column : City_Stay "
   ]
  },
  {
   "cell_type": "code",
   "execution_count": 31,
   "id": "3fb2845e",
   "metadata": {},
   "outputs": [
    {
     "name": "stdout",
     "output_type": "stream",
     "text": [
      "Unique_values : ['2' '4+' '3' '1' '0']\n",
      "Data_type : object\n"
     ]
    }
   ],
   "source": [
    "# Column- city-stay\n",
    "\n",
    "print('Unique_values :',df['City_Stay'].unique())\n",
    "print('Data_type :',df['City_Stay'].dtype)"
   ]
  },
  {
   "cell_type": "code",
   "execution_count": 32,
   "id": "4fa05703",
   "metadata": {},
   "outputs": [],
   "source": [
    "# remove '+' sign from the number in City_Stay\n",
    "\n",
    "def Cities(value):\n",
    "    if '+' in value:\n",
    "        value = value.replace('+','')\n",
    "        return int(value)\n",
    "    else:\n",
    "        return int(value)\n",
    "    \n",
    "df['City_Stay'] = df['City_Stay'].apply(Cities)\n",
    "        "
   ]
  },
  {
   "cell_type": "code",
   "execution_count": 33,
   "id": "66abea10",
   "metadata": {},
   "outputs": [
    {
     "data": {
      "text/plain": [
       "array([2, 4, 3, 1, 0], dtype=int64)"
      ]
     },
     "execution_count": 33,
     "metadata": {},
     "output_type": "execute_result"
    }
   ],
   "source": [
    "df['City_Stay'].unique()"
   ]
  },
  {
   "cell_type": "markdown",
   "id": "fa2e6de5",
   "metadata": {},
   "source": [
    "## 7. Column : Marital_Status"
   ]
  },
  {
   "cell_type": "code",
   "execution_count": 34,
   "id": "d9008fbe",
   "metadata": {},
   "outputs": [
    {
     "data": {
      "text/plain": [
       "Index(['User_ID', 'Gender', 'Age', 'Occupation', 'City_Category', 'City_Stay',\n",
       "       'Marital_Status', 'Product1', 'Product2', 'Product3', 'Purchase'],\n",
       "      dtype='object')"
      ]
     },
     "execution_count": 34,
     "metadata": {},
     "output_type": "execute_result"
    }
   ],
   "source": [
    "df.columns"
   ]
  },
  {
   "cell_type": "code",
   "execution_count": 35,
   "id": "504a308b",
   "metadata": {},
   "outputs": [
    {
     "data": {
      "text/plain": [
       "array([0, 1], dtype=int64)"
      ]
     },
     "execution_count": 35,
     "metadata": {},
     "output_type": "execute_result"
    }
   ],
   "source": [
    "df['Marital_Status'].unique()"
   ]
  },
  {
   "cell_type": "markdown",
   "id": "2c89c555",
   "metadata": {},
   "source": [
    "* There's nothing to change in this column.\n",
    "    1. Here married status -> 1\n",
    "    2. Whereas single status -> 0"
   ]
  },
  {
   "cell_type": "markdown",
   "id": "ce19532e",
   "metadata": {},
   "source": [
    "## 8. column : Product1"
   ]
  },
  {
   "cell_type": "code",
   "execution_count": 36,
   "id": "c4b6004a",
   "metadata": {},
   "outputs": [
    {
     "data": {
      "text/plain": [
       "array([ 3,  1, 12,  8,  5,  4,  2,  6, 14, 11, 13, 15,  7, 16, 18, 10, 17,\n",
       "        9, 20, 19], dtype=int64)"
      ]
     },
     "execution_count": 36,
     "metadata": {},
     "output_type": "execute_result"
    }
   ],
   "source": [
    "df['Product1'].unique()"
   ]
  },
  {
   "cell_type": "markdown",
   "id": "d7fc7312",
   "metadata": {},
   "source": [
    "## 9. Product2"
   ]
  },
  {
   "cell_type": "code",
   "execution_count": 37,
   "id": "aa98703d",
   "metadata": {},
   "outputs": [
    {
     "data": {
      "text/plain": [
       "array([nan,  6., 14.,  2.,  8., 15., 16., 11.,  5.,  3.,  4., 12.,  9.,\n",
       "       10., 17., 13.,  7., 18.])"
      ]
     },
     "execution_count": 37,
     "metadata": {},
     "output_type": "execute_result"
    }
   ],
   "source": [
    "df['Product2'].unique()"
   ]
  },
  {
   "cell_type": "markdown",
   "id": "b946c5b1",
   "metadata": {},
   "source": [
    "* Now, we have to dean with these NULL values"
   ]
  },
  {
   "cell_type": "code",
   "execution_count": 38,
   "id": "31945d16",
   "metadata": {},
   "outputs": [
    {
     "data": {
      "text/plain": [
       "8.0     64088\n",
       "14.0    55108\n",
       "2.0     49217\n",
       "16.0    43255\n",
       "15.0    37855\n",
       "5.0     26235\n",
       "4.0     25677\n",
       "6.0     16466\n",
       "11.0    14134\n",
       "17.0    13320\n",
       "13.0    10531\n",
       "9.0      5693\n",
       "12.0     5528\n",
       "10.0     3043\n",
       "3.0      2884\n",
       "18.0     2770\n",
       "7.0       626\n",
       "Name: Product2, dtype: int64"
      ]
     },
     "execution_count": 38,
     "metadata": {},
     "output_type": "execute_result"
    }
   ],
   "source": [
    "df['Product2'].value_counts()"
   ]
  },
  {
   "cell_type": "code",
   "execution_count": 39,
   "id": "d53328e4",
   "metadata": {},
   "outputs": [
    {
     "data": {
      "text/plain": [
       "173638"
      ]
     },
     "execution_count": 39,
     "metadata": {},
     "output_type": "execute_result"
    }
   ],
   "source": [
    "df['Product2'].isnull().sum()"
   ]
  },
  {
   "cell_type": "code",
   "execution_count": 40,
   "id": "4dafe103",
   "metadata": {},
   "outputs": [
    {
     "data": {
      "text/plain": [
       "10"
      ]
     },
     "execution_count": 40,
     "metadata": {},
     "output_type": "execute_result"
    }
   ],
   "source": [
    "s1 = round(df['Product2'].mean())\n",
    "s1"
   ]
  },
  {
   "cell_type": "code",
   "execution_count": 41,
   "id": "7a1924df",
   "metadata": {},
   "outputs": [],
   "source": [
    "df['Product2'].fillna(s1, inplace = True)"
   ]
  },
  {
   "cell_type": "code",
   "execution_count": 42,
   "id": "a5c6a3a9",
   "metadata": {},
   "outputs": [
    {
     "data": {
      "text/plain": [
       "0"
      ]
     },
     "execution_count": 42,
     "metadata": {},
     "output_type": "execute_result"
    }
   ],
   "source": [
    "df['Product1'].isnull().sum()"
   ]
  },
  {
   "cell_type": "code",
   "execution_count": 43,
   "id": "0d714bf7",
   "metadata": {},
   "outputs": [
    {
     "name": "stdout",
     "output_type": "stream",
     "text": [
      "<class 'pandas.core.frame.DataFrame'>\n",
      "RangeIndex: 550068 entries, 0 to 550067\n",
      "Data columns (total 11 columns):\n",
      " #   Column          Non-Null Count   Dtype  \n",
      "---  ------          --------------   -----  \n",
      " 0   User_ID         550068 non-null  int64  \n",
      " 1   Gender          550068 non-null  object \n",
      " 2   Age             550068 non-null  object \n",
      " 3   Occupation      550068 non-null  int64  \n",
      " 4   City_Category   550068 non-null  object \n",
      " 5   City_Stay       550068 non-null  int64  \n",
      " 6   Marital_Status  550068 non-null  int64  \n",
      " 7   Product1        550068 non-null  int64  \n",
      " 8   Product2        550068 non-null  float64\n",
      " 9   Product3        166821 non-null  float64\n",
      " 10  Purchase        550068 non-null  int64  \n",
      "dtypes: float64(2), int64(6), object(3)\n",
      "memory usage: 46.2+ MB\n"
     ]
    }
   ],
   "source": [
    "df.info()"
   ]
  },
  {
   "cell_type": "code",
   "execution_count": 44,
   "id": "69411794",
   "metadata": {},
   "outputs": [
    {
     "data": {
      "text/html": [
       "<div>\n",
       "<style scoped>\n",
       "    .dataframe tbody tr th:only-of-type {\n",
       "        vertical-align: middle;\n",
       "    }\n",
       "\n",
       "    .dataframe tbody tr th {\n",
       "        vertical-align: top;\n",
       "    }\n",
       "\n",
       "    .dataframe thead th {\n",
       "        text-align: right;\n",
       "    }\n",
       "</style>\n",
       "<table border=\"1\" class=\"dataframe\">\n",
       "  <thead>\n",
       "    <tr style=\"text-align: right;\">\n",
       "      <th></th>\n",
       "      <th>User_ID</th>\n",
       "      <th>Gender</th>\n",
       "      <th>Age</th>\n",
       "      <th>Occupation</th>\n",
       "      <th>City_Category</th>\n",
       "      <th>City_Stay</th>\n",
       "      <th>Marital_Status</th>\n",
       "      <th>Product1</th>\n",
       "      <th>Product2</th>\n",
       "      <th>Product3</th>\n",
       "      <th>Purchase</th>\n",
       "    </tr>\n",
       "  </thead>\n",
       "  <tbody>\n",
       "    <tr>\n",
       "      <th>550063</th>\n",
       "      <td>1006033</td>\n",
       "      <td>M</td>\n",
       "      <td>Old</td>\n",
       "      <td>13</td>\n",
       "      <td>B</td>\n",
       "      <td>1</td>\n",
       "      <td>1</td>\n",
       "      <td>20</td>\n",
       "      <td>10.0</td>\n",
       "      <td>NaN</td>\n",
       "      <td>368</td>\n",
       "    </tr>\n",
       "    <tr>\n",
       "      <th>550064</th>\n",
       "      <td>1006035</td>\n",
       "      <td>F</td>\n",
       "      <td>Adult</td>\n",
       "      <td>1</td>\n",
       "      <td>C</td>\n",
       "      <td>3</td>\n",
       "      <td>0</td>\n",
       "      <td>20</td>\n",
       "      <td>10.0</td>\n",
       "      <td>NaN</td>\n",
       "      <td>371</td>\n",
       "    </tr>\n",
       "    <tr>\n",
       "      <th>550065</th>\n",
       "      <td>1006036</td>\n",
       "      <td>F</td>\n",
       "      <td>Adult</td>\n",
       "      <td>15</td>\n",
       "      <td>B</td>\n",
       "      <td>4</td>\n",
       "      <td>1</td>\n",
       "      <td>20</td>\n",
       "      <td>10.0</td>\n",
       "      <td>NaN</td>\n",
       "      <td>137</td>\n",
       "    </tr>\n",
       "    <tr>\n",
       "      <th>550066</th>\n",
       "      <td>1006038</td>\n",
       "      <td>F</td>\n",
       "      <td>Old</td>\n",
       "      <td>1</td>\n",
       "      <td>C</td>\n",
       "      <td>2</td>\n",
       "      <td>0</td>\n",
       "      <td>20</td>\n",
       "      <td>10.0</td>\n",
       "      <td>NaN</td>\n",
       "      <td>365</td>\n",
       "    </tr>\n",
       "    <tr>\n",
       "      <th>550067</th>\n",
       "      <td>1006039</td>\n",
       "      <td>F</td>\n",
       "      <td>Adult</td>\n",
       "      <td>0</td>\n",
       "      <td>B</td>\n",
       "      <td>4</td>\n",
       "      <td>1</td>\n",
       "      <td>20</td>\n",
       "      <td>10.0</td>\n",
       "      <td>NaN</td>\n",
       "      <td>490</td>\n",
       "    </tr>\n",
       "  </tbody>\n",
       "</table>\n",
       "</div>"
      ],
      "text/plain": [
       "        User_ID Gender    Age  Occupation City_Category  City_Stay  \\\n",
       "550063  1006033      M    Old          13             B          1   \n",
       "550064  1006035      F  Adult           1             C          3   \n",
       "550065  1006036      F  Adult          15             B          4   \n",
       "550066  1006038      F    Old           1             C          2   \n",
       "550067  1006039      F  Adult           0             B          4   \n",
       "\n",
       "        Marital_Status  Product1  Product2  Product3  Purchase  \n",
       "550063               1        20      10.0       NaN       368  \n",
       "550064               0        20      10.0       NaN       371  \n",
       "550065               1        20      10.0       NaN       137  \n",
       "550066               0        20      10.0       NaN       365  \n",
       "550067               1        20      10.0       NaN       490  "
      ]
     },
     "execution_count": 44,
     "metadata": {},
     "output_type": "execute_result"
    }
   ],
   "source": [
    "df.tail()"
   ]
  },
  {
   "cell_type": "code",
   "execution_count": 45,
   "id": "f367193a",
   "metadata": {},
   "outputs": [
    {
     "data": {
      "text/plain": [
       "User_ID             int64\n",
       "Gender             object\n",
       "Age                object\n",
       "Occupation          int64\n",
       "City_Category      object\n",
       "City_Stay           int64\n",
       "Marital_Status      int64\n",
       "Product1            int64\n",
       "Product2            int32\n",
       "Product3          float64\n",
       "Purchase            int64\n",
       "dtype: object"
      ]
     },
     "execution_count": 45,
     "metadata": {},
     "output_type": "execute_result"
    }
   ],
   "source": [
    "df['Product2'] = df['Product2'].astype(int)\n",
    "df.dtypes"
   ]
  },
  {
   "cell_type": "markdown",
   "id": "4740be5c",
   "metadata": {},
   "source": [
    "## 10. Column : Product3"
   ]
  },
  {
   "cell_type": "code",
   "execution_count": 46,
   "id": "ccb23072",
   "metadata": {},
   "outputs": [
    {
     "data": {
      "text/plain": [
       "array([nan, 14., 17.,  5.,  4., 16., 15.,  8.,  9., 13.,  6., 12.,  3.,\n",
       "       18., 11., 10.])"
      ]
     },
     "execution_count": 46,
     "metadata": {},
     "output_type": "execute_result"
    }
   ],
   "source": [
    "df['Product3'].unique()"
   ]
  },
  {
   "cell_type": "code",
   "execution_count": 47,
   "id": "2c73f8a2",
   "metadata": {},
   "outputs": [
    {
     "data": {
      "text/plain": [
       "383247"
      ]
     },
     "execution_count": 47,
     "metadata": {},
     "output_type": "execute_result"
    }
   ],
   "source": [
    "df['Product3'].isnull().sum()"
   ]
  },
  {
   "cell_type": "markdown",
   "id": "22fd8304",
   "metadata": {},
   "source": [
    "* Product3 has null value"
   ]
  },
  {
   "cell_type": "code",
   "execution_count": 48,
   "id": "dcb4f1d5",
   "metadata": {},
   "outputs": [
    {
     "data": {
      "text/plain": [
       "13"
      ]
     },
     "execution_count": 48,
     "metadata": {},
     "output_type": "execute_result"
    }
   ],
   "source": [
    "s2 = round(df['Product3'].mean())\n",
    "s2"
   ]
  },
  {
   "cell_type": "code",
   "execution_count": 49,
   "id": "8fb56245",
   "metadata": {},
   "outputs": [],
   "source": [
    "df['Product3'].fillna(s2, inplace = True)"
   ]
  },
  {
   "cell_type": "code",
   "execution_count": 50,
   "id": "711b60ba",
   "metadata": {},
   "outputs": [
    {
     "data": {
      "text/plain": [
       "0"
      ]
     },
     "execution_count": 50,
     "metadata": {},
     "output_type": "execute_result"
    }
   ],
   "source": [
    "df['Product3'].isnull().sum()"
   ]
  },
  {
   "cell_type": "code",
   "execution_count": 51,
   "id": "6fc02a5d",
   "metadata": {},
   "outputs": [
    {
     "name": "stdout",
     "output_type": "stream",
     "text": [
      "<class 'pandas.core.frame.DataFrame'>\n",
      "RangeIndex: 550068 entries, 0 to 550067\n",
      "Data columns (total 11 columns):\n",
      " #   Column          Non-Null Count   Dtype  \n",
      "---  ------          --------------   -----  \n",
      " 0   User_ID         550068 non-null  int64  \n",
      " 1   Gender          550068 non-null  object \n",
      " 2   Age             550068 non-null  object \n",
      " 3   Occupation      550068 non-null  int64  \n",
      " 4   City_Category   550068 non-null  object \n",
      " 5   City_Stay       550068 non-null  int64  \n",
      " 6   Marital_Status  550068 non-null  int64  \n",
      " 7   Product1        550068 non-null  int64  \n",
      " 8   Product2        550068 non-null  int32  \n",
      " 9   Product3        550068 non-null  float64\n",
      " 10  Purchase        550068 non-null  int64  \n",
      "dtypes: float64(1), int32(1), int64(6), object(3)\n",
      "memory usage: 44.1+ MB\n"
     ]
    }
   ],
   "source": [
    "df.info()"
   ]
  },
  {
   "cell_type": "code",
   "execution_count": 52,
   "id": "22395311",
   "metadata": {},
   "outputs": [
    {
     "data": {
      "text/plain": [
       "User_ID            int64\n",
       "Gender            object\n",
       "Age               object\n",
       "Occupation         int64\n",
       "City_Category     object\n",
       "City_Stay          int64\n",
       "Marital_Status     int64\n",
       "Product1           int64\n",
       "Product2           int32\n",
       "Product3           int32\n",
       "Purchase           int64\n",
       "dtype: object"
      ]
     },
     "execution_count": 52,
     "metadata": {},
     "output_type": "execute_result"
    }
   ],
   "source": [
    "#  Change the data type of Product3\n",
    "\n",
    "df['Product3'] = df['Product3'].astype(int)\n",
    "df.dtypes"
   ]
  },
  {
   "cell_type": "code",
   "execution_count": 53,
   "id": "b5aa752f",
   "metadata": {},
   "outputs": [
    {
     "data": {
      "text/html": [
       "<div>\n",
       "<style scoped>\n",
       "    .dataframe tbody tr th:only-of-type {\n",
       "        vertical-align: middle;\n",
       "    }\n",
       "\n",
       "    .dataframe tbody tr th {\n",
       "        vertical-align: top;\n",
       "    }\n",
       "\n",
       "    .dataframe thead th {\n",
       "        text-align: right;\n",
       "    }\n",
       "</style>\n",
       "<table border=\"1\" class=\"dataframe\">\n",
       "  <thead>\n",
       "    <tr style=\"text-align: right;\">\n",
       "      <th></th>\n",
       "      <th>User_ID</th>\n",
       "      <th>Gender</th>\n",
       "      <th>Age</th>\n",
       "      <th>Occupation</th>\n",
       "      <th>City_Category</th>\n",
       "      <th>City_Stay</th>\n",
       "      <th>Marital_Status</th>\n",
       "      <th>Product1</th>\n",
       "      <th>Product2</th>\n",
       "      <th>Product3</th>\n",
       "      <th>Purchase</th>\n",
       "    </tr>\n",
       "  </thead>\n",
       "  <tbody>\n",
       "    <tr>\n",
       "      <th>0</th>\n",
       "      <td>1000001</td>\n",
       "      <td>F</td>\n",
       "      <td>Child</td>\n",
       "      <td>10</td>\n",
       "      <td>A</td>\n",
       "      <td>2</td>\n",
       "      <td>0</td>\n",
       "      <td>3</td>\n",
       "      <td>10</td>\n",
       "      <td>13</td>\n",
       "      <td>8370</td>\n",
       "    </tr>\n",
       "    <tr>\n",
       "      <th>1</th>\n",
       "      <td>1000001</td>\n",
       "      <td>F</td>\n",
       "      <td>Child</td>\n",
       "      <td>10</td>\n",
       "      <td>A</td>\n",
       "      <td>2</td>\n",
       "      <td>0</td>\n",
       "      <td>1</td>\n",
       "      <td>6</td>\n",
       "      <td>14</td>\n",
       "      <td>15200</td>\n",
       "    </tr>\n",
       "    <tr>\n",
       "      <th>2</th>\n",
       "      <td>1000001</td>\n",
       "      <td>F</td>\n",
       "      <td>Child</td>\n",
       "      <td>10</td>\n",
       "      <td>A</td>\n",
       "      <td>2</td>\n",
       "      <td>0</td>\n",
       "      <td>12</td>\n",
       "      <td>10</td>\n",
       "      <td>13</td>\n",
       "      <td>1422</td>\n",
       "    </tr>\n",
       "    <tr>\n",
       "      <th>3</th>\n",
       "      <td>1000001</td>\n",
       "      <td>F</td>\n",
       "      <td>Child</td>\n",
       "      <td>10</td>\n",
       "      <td>A</td>\n",
       "      <td>2</td>\n",
       "      <td>0</td>\n",
       "      <td>12</td>\n",
       "      <td>14</td>\n",
       "      <td>13</td>\n",
       "      <td>1057</td>\n",
       "    </tr>\n",
       "    <tr>\n",
       "      <th>4</th>\n",
       "      <td>1000002</td>\n",
       "      <td>M</td>\n",
       "      <td>Old</td>\n",
       "      <td>16</td>\n",
       "      <td>C</td>\n",
       "      <td>4</td>\n",
       "      <td>0</td>\n",
       "      <td>8</td>\n",
       "      <td>10</td>\n",
       "      <td>13</td>\n",
       "      <td>7969</td>\n",
       "    </tr>\n",
       "  </tbody>\n",
       "</table>\n",
       "</div>"
      ],
      "text/plain": [
       "   User_ID Gender    Age  Occupation City_Category  City_Stay  Marital_Status  \\\n",
       "0  1000001      F  Child          10             A          2               0   \n",
       "1  1000001      F  Child          10             A          2               0   \n",
       "2  1000001      F  Child          10             A          2               0   \n",
       "3  1000001      F  Child          10             A          2               0   \n",
       "4  1000002      M    Old          16             C          4               0   \n",
       "\n",
       "   Product1  Product2  Product3  Purchase  \n",
       "0         3        10        13      8370  \n",
       "1         1         6        14     15200  \n",
       "2        12        10        13      1422  \n",
       "3        12        14        13      1057  \n",
       "4         8        10        13      7969  "
      ]
     },
     "execution_count": 53,
     "metadata": {},
     "output_type": "execute_result"
    }
   ],
   "source": [
    "df.head()"
   ]
  },
  {
   "cell_type": "markdown",
   "id": "2fdcd490",
   "metadata": {},
   "source": [
    "***We have cleaned the data. Now, we will again check it***"
   ]
  },
  {
   "cell_type": "code",
   "execution_count": 54,
   "id": "77e4cb72",
   "metadata": {},
   "outputs": [
    {
     "data": {
      "text/plain": [
       "User_ID           0\n",
       "Gender            0\n",
       "Age               0\n",
       "Occupation        0\n",
       "City_Category     0\n",
       "City_Stay         0\n",
       "Marital_Status    0\n",
       "Product1          0\n",
       "Product2          0\n",
       "Product3          0\n",
       "Purchase          0\n",
       "dtype: int64"
      ]
     },
     "execution_count": 54,
     "metadata": {},
     "output_type": "execute_result"
    }
   ],
   "source": [
    "df.isnull().sum()"
   ]
  },
  {
   "cell_type": "code",
   "execution_count": 55,
   "id": "0fb869cf",
   "metadata": {},
   "outputs": [
    {
     "data": {
      "image/png": "[encoded data removed]",
      "text/plain": [
       "<Figure size 640x480 with 2 Axes>"
      ]
     },
     "metadata": {},
     "output_type": "display_data"
    }
   ],
   "source": [
    "sns.heatmap(df.isnull(), color = 'red')\n",
    "plt.show()"
   ]
  },
  {
   "cell_type": "markdown",
   "id": "10041810",
   "metadata": {},
   "source": [
    "***The heat map shows that there is no null value present in data set.***\n",
    "\n",
    "* Our data now seems to be clean. So, we'll start will Data Visualization.\n",
    "\n",
    "=> Checking the feature of Purchase feature -\n",
    "\n",
    "* We can use the code written below. But in this code we will not be able to adjust the size of the entire subplot. Hence, we'll prefer the other code.\n",
    "\n",
    "-> ***plt.subplot(2,2,1)*** -> sns.distplot(bfs['Purchase'], rug = True) -> plt.title('Distribution')\n",
    "\n",
    "-> ***plt.subplot(2,2,2***, figsize=(12,8)) -> sns.boxenplot(x=bfs['Purchase'], data=bfs, palette=\"rocket_r\") -> plt.title('Outliers')\n",
    "\n",
    "-> ***plt.subplot(2,2,3, figsize=(12,8))*** -> sns.violinplot(x=bfs['Purchase'], alpha=.7, palette=\"rocket_r\", data=bfs)\n",
    "\n",
    "-> ***plt.subplot(2,2,4, figsize=(12,8))*** -> sns.boxplot(x=bfs['Purchase'], y=bfs['Gender'], data=bfs, palette=\"rocket_r\")\n",
    "\n",
    "-> ***plt.tight_layout()*** -> plt.show()\n",
    "\n",
    "###### Let's check for the outliers in the data. We will examine the purchase column for this.\n",
    "**`Detecting Outlier using Z-score`**\n",
    "> ***Formula for z-score = (Observation - Mean) / Standard Deviation***"
   ]
  },
  {
   "cell_type": "code",
   "execution_count": 56,
   "id": "386d47fa",
   "metadata": {},
   "outputs": [
    {
     "name": "stdout",
     "output_type": "stream",
     "text": [
      "Upper_limit : 24333.164894421006\n",
      "lower_limit : -5805.227468502755\n"
     ]
    }
   ],
   "source": [
    "# Find the limits\n",
    "\n",
    "Upper_limit = df['Purchase'].mean() + 3*df['Purchase'].std()\n",
    "lower_limit = df['Purchase'].mean() - 3*df['Purchase'].std()\n",
    "\n",
    "print('Upper_limit :',Upper_limit)\n",
    "print('lower_limit :', lower_limit)"
   ]
  },
  {
   "cell_type": "markdown",
   "id": "631debd7",
   "metadata": {},
   "source": [
    "## Find the Outliers"
   ]
  },
  {
   "cell_type": "code",
   "execution_count": 57,
   "id": "35026806",
   "metadata": {},
   "outputs": [
    {
     "data": {
      "text/html": [
       "<div>\n",
       "<style scoped>\n",
       "    .dataframe tbody tr th:only-of-type {\n",
       "        vertical-align: middle;\n",
       "    }\n",
       "\n",
       "    .dataframe tbody tr th {\n",
       "        vertical-align: top;\n",
       "    }\n",
       "\n",
       "    .dataframe thead th {\n",
       "        text-align: right;\n",
       "    }\n",
       "</style>\n",
       "<table border=\"1\" class=\"dataframe\">\n",
       "  <thead>\n",
       "    <tr style=\"text-align: right;\">\n",
       "      <th></th>\n",
       "      <th>User_ID</th>\n",
       "      <th>Gender</th>\n",
       "      <th>Age</th>\n",
       "      <th>Occupation</th>\n",
       "      <th>City_Category</th>\n",
       "      <th>City_Stay</th>\n",
       "      <th>Marital_Status</th>\n",
       "      <th>Product1</th>\n",
       "      <th>Product2</th>\n",
       "      <th>Product3</th>\n",
       "      <th>Purchase</th>\n",
       "    </tr>\n",
       "  </thead>\n",
       "  <tbody>\n",
       "  </tbody>\n",
       "</table>\n",
       "</div>"
      ],
      "text/plain": [
       "Empty DataFrame\n",
       "Columns: [User_ID, Gender, Age, Occupation, City_Category, City_Stay, Marital_Status, Product1, Product2, Product3, Purchase]\n",
       "Index: []"
      ]
     },
     "execution_count": 57,
     "metadata": {},
     "output_type": "execute_result"
    }
   ],
   "source": [
    "df.loc[(df['Purchase'] > Upper_limit) | (df['Purchase'] < lower_limit)]"
   ]
  },
  {
   "cell_type": "markdown",
   "id": "4d1f7380",
   "metadata": {},
   "source": [
    "***Z-Score method shows no outliers. therefore, we'll confirm it using the inter_quartile Range Method***"
   ]
  },
  {
   "cell_type": "code",
   "execution_count": 58,
   "id": "c6af8ca9",
   "metadata": {},
   "outputs": [],
   "source": [
    "#  Detecting Outliers using Inter_Quartile_Range"
   ]
  },
  {
   "cell_type": "code",
   "execution_count": 59,
   "id": "ab134801",
   "metadata": {},
   "outputs": [
    {
     "name": "stdout",
     "output_type": "stream",
     "text": [
      "Q1 : 5823.0\n",
      "Q3 : 12054.0\n",
      "IQR : 6231.0\n"
     ]
    }
   ],
   "source": [
    "Q1 = df['Purchase'].quantile(q=0.25)\n",
    "Q3 = df['Purchase'].quantile(q=0.75)\n",
    "\n",
    "IQR = Q3 - Q1\n",
    "\n",
    "print('Q1 :', Q1)\n",
    "print('Q3 :', Q3)\n",
    "print('IQR :', IQR)"
   ]
  },
  {
   "cell_type": "code",
   "execution_count": 60,
   "id": "e65871f4",
   "metadata": {},
   "outputs": [
    {
     "name": "stdout",
     "output_type": "stream",
     "text": [
      "upper_limit : 21400.5\n",
      "lower_limit : -3523.5\n"
     ]
    }
   ],
   "source": [
    "upper_limit = Q3 + (1.5*IQR)\n",
    "lower_limit = Q1 - (1.5*IQR)\n",
    "\n",
    "print('upper_limit :', upper_limit)\n",
    "print('lower_limit :', lower_limit)"
   ]
  },
  {
   "cell_type": "code",
   "execution_count": 61,
   "id": "b788dae5",
   "metadata": {},
   "outputs": [
    {
     "data": {
      "text/plain": [
       "<AxesSubplot:xlabel='Purchase'>"
      ]
     },
     "execution_count": 61,
     "metadata": {},
     "output_type": "execute_result"
    },
    {
     "data": {
      "image/png": "[encoded data removed]",
      "text/plain": [
       "<Figure size 640x480 with 1 Axes>"
      ]
     },
     "metadata": {},
     "output_type": "display_data"
    }
   ],
   "source": [
    "sns.boxplot(df['Purchase'])"
   ]
  },
  {
   "cell_type": "markdown",
   "id": "fd558015",
   "metadata": {},
   "source": [
    "### Find the Outliers\n"
   ]
  },
  {
   "cell_type": "code",
   "execution_count": 62,
   "id": "13e8c7d0",
   "metadata": {},
   "outputs": [
    {
     "data": {
      "text/html": [
       "<div>\n",
       "<style scoped>\n",
       "    .dataframe tbody tr th:only-of-type {\n",
       "        vertical-align: middle;\n",
       "    }\n",
       "\n",
       "    .dataframe tbody tr th {\n",
       "        vertical-align: top;\n",
       "    }\n",
       "\n",
       "    .dataframe thead th {\n",
       "        text-align: right;\n",
       "    }\n",
       "</style>\n",
       "<table border=\"1\" class=\"dataframe\">\n",
       "  <thead>\n",
       "    <tr style=\"text-align: right;\">\n",
       "      <th></th>\n",
       "      <th>User_ID</th>\n",
       "      <th>Gender</th>\n",
       "      <th>Age</th>\n",
       "      <th>Occupation</th>\n",
       "      <th>City_Category</th>\n",
       "      <th>City_Stay</th>\n",
       "      <th>Marital_Status</th>\n",
       "      <th>Product1</th>\n",
       "      <th>Product2</th>\n",
       "      <th>Product3</th>\n",
       "      <th>Purchase</th>\n",
       "    </tr>\n",
       "  </thead>\n",
       "  <tbody>\n",
       "    <tr>\n",
       "      <th>343</th>\n",
       "      <td>1000058</td>\n",
       "      <td>M</td>\n",
       "      <td>Adult</td>\n",
       "      <td>2</td>\n",
       "      <td>B</td>\n",
       "      <td>3</td>\n",
       "      <td>0</td>\n",
       "      <td>10</td>\n",
       "      <td>16</td>\n",
       "      <td>13</td>\n",
       "      <td>23603</td>\n",
       "    </tr>\n",
       "    <tr>\n",
       "      <th>375</th>\n",
       "      <td>1000062</td>\n",
       "      <td>F</td>\n",
       "      <td>Adult</td>\n",
       "      <td>3</td>\n",
       "      <td>A</td>\n",
       "      <td>1</td>\n",
       "      <td>0</td>\n",
       "      <td>10</td>\n",
       "      <td>13</td>\n",
       "      <td>13</td>\n",
       "      <td>23792</td>\n",
       "    </tr>\n",
       "    <tr>\n",
       "      <th>652</th>\n",
       "      <td>1000126</td>\n",
       "      <td>M</td>\n",
       "      <td>Teenage</td>\n",
       "      <td>9</td>\n",
       "      <td>B</td>\n",
       "      <td>1</td>\n",
       "      <td>0</td>\n",
       "      <td>10</td>\n",
       "      <td>14</td>\n",
       "      <td>16</td>\n",
       "      <td>23233</td>\n",
       "    </tr>\n",
       "    <tr>\n",
       "      <th>736</th>\n",
       "      <td>1000139</td>\n",
       "      <td>F</td>\n",
       "      <td>Adult</td>\n",
       "      <td>20</td>\n",
       "      <td>C</td>\n",
       "      <td>2</td>\n",
       "      <td>0</td>\n",
       "      <td>10</td>\n",
       "      <td>15</td>\n",
       "      <td>16</td>\n",
       "      <td>23595</td>\n",
       "    </tr>\n",
       "    <tr>\n",
       "      <th>1041</th>\n",
       "      <td>1000175</td>\n",
       "      <td>F</td>\n",
       "      <td>Adult</td>\n",
       "      <td>2</td>\n",
       "      <td>B</td>\n",
       "      <td>1</td>\n",
       "      <td>0</td>\n",
       "      <td>10</td>\n",
       "      <td>15</td>\n",
       "      <td>13</td>\n",
       "      <td>23341</td>\n",
       "    </tr>\n",
       "    <tr>\n",
       "      <th>...</th>\n",
       "      <td>...</td>\n",
       "      <td>...</td>\n",
       "      <td>...</td>\n",
       "      <td>...</td>\n",
       "      <td>...</td>\n",
       "      <td>...</td>\n",
       "      <td>...</td>\n",
       "      <td>...</td>\n",
       "      <td>...</td>\n",
       "      <td>...</td>\n",
       "      <td>...</td>\n",
       "    </tr>\n",
       "    <tr>\n",
       "      <th>544488</th>\n",
       "      <td>1005815</td>\n",
       "      <td>M</td>\n",
       "      <td>Adult</td>\n",
       "      <td>20</td>\n",
       "      <td>B</td>\n",
       "      <td>1</td>\n",
       "      <td>0</td>\n",
       "      <td>10</td>\n",
       "      <td>13</td>\n",
       "      <td>16</td>\n",
       "      <td>23753</td>\n",
       "    </tr>\n",
       "    <tr>\n",
       "      <th>544704</th>\n",
       "      <td>1005847</td>\n",
       "      <td>F</td>\n",
       "      <td>Teenage</td>\n",
       "      <td>4</td>\n",
       "      <td>B</td>\n",
       "      <td>2</td>\n",
       "      <td>0</td>\n",
       "      <td>10</td>\n",
       "      <td>13</td>\n",
       "      <td>13</td>\n",
       "      <td>23724</td>\n",
       "    </tr>\n",
       "    <tr>\n",
       "      <th>544743</th>\n",
       "      <td>1005852</td>\n",
       "      <td>F</td>\n",
       "      <td>Adult</td>\n",
       "      <td>1</td>\n",
       "      <td>A</td>\n",
       "      <td>0</td>\n",
       "      <td>1</td>\n",
       "      <td>10</td>\n",
       "      <td>16</td>\n",
       "      <td>13</td>\n",
       "      <td>23529</td>\n",
       "    </tr>\n",
       "    <tr>\n",
       "      <th>545663</th>\n",
       "      <td>1006002</td>\n",
       "      <td>M</td>\n",
       "      <td>Old</td>\n",
       "      <td>0</td>\n",
       "      <td>C</td>\n",
       "      <td>1</td>\n",
       "      <td>1</td>\n",
       "      <td>10</td>\n",
       "      <td>13</td>\n",
       "      <td>16</td>\n",
       "      <td>23663</td>\n",
       "    </tr>\n",
       "    <tr>\n",
       "      <th>545787</th>\n",
       "      <td>1006018</td>\n",
       "      <td>M</td>\n",
       "      <td>Adult</td>\n",
       "      <td>1</td>\n",
       "      <td>C</td>\n",
       "      <td>3</td>\n",
       "      <td>0</td>\n",
       "      <td>10</td>\n",
       "      <td>15</td>\n",
       "      <td>13</td>\n",
       "      <td>23496</td>\n",
       "    </tr>\n",
       "  </tbody>\n",
       "</table>\n",
       "<p>2677 rows × 11 columns</p>\n",
       "</div>"
      ],
      "text/plain": [
       "        User_ID Gender      Age  Occupation City_Category  City_Stay  \\\n",
       "343     1000058      M    Adult           2             B          3   \n",
       "375     1000062      F    Adult           3             A          1   \n",
       "652     1000126      M  Teenage           9             B          1   \n",
       "736     1000139      F    Adult          20             C          2   \n",
       "1041    1000175      F    Adult           2             B          1   \n",
       "...         ...    ...      ...         ...           ...        ...   \n",
       "544488  1005815      M    Adult          20             B          1   \n",
       "544704  1005847      F  Teenage           4             B          2   \n",
       "544743  1005852      F    Adult           1             A          0   \n",
       "545663  1006002      M      Old           0             C          1   \n",
       "545787  1006018      M    Adult           1             C          3   \n",
       "\n",
       "        Marital_Status  Product1  Product2  Product3  Purchase  \n",
       "343                  0        10        16        13     23603  \n",
       "375                  0        10        13        13     23792  \n",
       "652                  0        10        14        16     23233  \n",
       "736                  0        10        15        16     23595  \n",
       "1041                 0        10        15        13     23341  \n",
       "...                ...       ...       ...       ...       ...  \n",
       "544488               0        10        13        16     23753  \n",
       "544704               0        10        13        13     23724  \n",
       "544743               1        10        16        13     23529  \n",
       "545663               1        10        13        16     23663  \n",
       "545787               0        10        15        13     23496  \n",
       "\n",
       "[2677 rows x 11 columns]"
      ]
     },
     "execution_count": 62,
     "metadata": {},
     "output_type": "execute_result"
    }
   ],
   "source": [
    "df.loc[(df['Purchase'] > upper_limit) | (df['Purchase'] < lower_limit)] # here | is used for 'or'"
   ]
  },
  {
   "cell_type": "markdown",
   "id": "ec7b2a86",
   "metadata": {},
   "source": [
    "***This clearly shows that our data has some outliers present in it. Now we have two options in front of us:***\n",
    "* **Trimming** - delete the outlier data\n",
    "* **Capping** - change the outlier values to upper or lower limit values\n",
    "\n",
    "**Our dataset is not a gigantic data set. Therefroe, we will not trim our data instead we'll go with capping**"
   ]
  },
  {
   "cell_type": "code",
   "execution_count": 63,
   "id": "a435238a",
   "metadata": {},
   "outputs": [],
   "source": [
    "# Capping - change the outlier values to upper or lower limit values\n",
    "\n",
    "df = df.copy()\n",
    "\n",
    "df.loc[(df['Purchase'] > upper_limit), 'Purchase'] = upper_limit\n",
    "df.loc[(df['Purchase'] < lower_limit), 'Purchase'] = lower_limit"
   ]
  },
  {
   "cell_type": "markdown",
   "id": "64125fe3",
   "metadata": {},
   "source": [
    "In this code we're changing the values that are greater than the Upper_limit to Upper_limit and similarly values which are less than the Lower_limit are replaced by the Lower_limit value"
   ]
  },
  {
   "cell_type": "code",
   "execution_count": 64,
   "id": "62057ead",
   "metadata": {},
   "outputs": [
    {
     "data": {
      "text/plain": [
       "<AxesSubplot:xlabel='Purchase'>"
      ]
     },
     "execution_count": 64,
     "metadata": {},
     "output_type": "execute_result"
    },
    {
     "data": {
      "image/png": "[encoded data removed]",
      "text/plain": [
       "<Figure size 600x400 with 1 Axes>"
      ]
     },
     "metadata": {},
     "output_type": "display_data"
    }
   ],
   "source": [
    "plt.figure(figsize = (6,4))\n",
    "sns.boxplot(df['Purchase'])"
   ]
  },
  {
   "cell_type": "raw",
   "id": "1fbb9846",
   "metadata": {},
   "source": [
    "Now, Our data is freem from outliers"
   ]
  },
  {
   "cell_type": "code",
   "execution_count": 65,
   "id": "c91610bb",
   "metadata": {},
   "outputs": [
    {
     "data": {
      "text/html": [
       "<div>\n",
       "<style scoped>\n",
       "    .dataframe tbody tr th:only-of-type {\n",
       "        vertical-align: middle;\n",
       "    }\n",
       "\n",
       "    .dataframe tbody tr th {\n",
       "        vertical-align: top;\n",
       "    }\n",
       "\n",
       "    .dataframe thead th {\n",
       "        text-align: right;\n",
       "    }\n",
       "</style>\n",
       "<table border=\"1\" class=\"dataframe\">\n",
       "  <thead>\n",
       "    <tr style=\"text-align: right;\">\n",
       "      <th></th>\n",
       "      <th>User_ID</th>\n",
       "      <th>Occupation</th>\n",
       "      <th>City_Stay</th>\n",
       "      <th>Marital_Status</th>\n",
       "      <th>Product1</th>\n",
       "      <th>Product2</th>\n",
       "      <th>Product3</th>\n",
       "      <th>Purchase</th>\n",
       "    </tr>\n",
       "  </thead>\n",
       "  <tbody>\n",
       "    <tr>\n",
       "      <th>count</th>\n",
       "      <td>5.500680e+05</td>\n",
       "      <td>550068.000000</td>\n",
       "      <td>550068.000000</td>\n",
       "      <td>550068.000000</td>\n",
       "      <td>550068.000000</td>\n",
       "      <td>550068.000000</td>\n",
       "      <td>550068.000000</td>\n",
       "      <td>550068.000000</td>\n",
       "    </tr>\n",
       "    <tr>\n",
       "      <th>mean</th>\n",
       "      <td>1.003029e+06</td>\n",
       "      <td>8.076707</td>\n",
       "      <td>1.858418</td>\n",
       "      <td>0.409653</td>\n",
       "      <td>5.404270</td>\n",
       "      <td>9.892101</td>\n",
       "      <td>12.899387</td>\n",
       "      <td>9255.024296</td>\n",
       "    </tr>\n",
       "    <tr>\n",
       "      <th>std</th>\n",
       "      <td>1.727592e+03</td>\n",
       "      <td>6.522660</td>\n",
       "      <td>1.289443</td>\n",
       "      <td>0.491770</td>\n",
       "      <td>3.936211</td>\n",
       "      <td>4.208490</td>\n",
       "      <td>2.276942</td>\n",
       "      <td>4999.516285</td>\n",
       "    </tr>\n",
       "    <tr>\n",
       "      <th>min</th>\n",
       "      <td>1.000001e+06</td>\n",
       "      <td>0.000000</td>\n",
       "      <td>0.000000</td>\n",
       "      <td>0.000000</td>\n",
       "      <td>1.000000</td>\n",
       "      <td>2.000000</td>\n",
       "      <td>3.000000</td>\n",
       "      <td>12.000000</td>\n",
       "    </tr>\n",
       "    <tr>\n",
       "      <th>25%</th>\n",
       "      <td>1.001516e+06</td>\n",
       "      <td>2.000000</td>\n",
       "      <td>1.000000</td>\n",
       "      <td>0.000000</td>\n",
       "      <td>1.000000</td>\n",
       "      <td>8.000000</td>\n",
       "      <td>13.000000</td>\n",
       "      <td>5823.000000</td>\n",
       "    </tr>\n",
       "    <tr>\n",
       "      <th>50%</th>\n",
       "      <td>1.003077e+06</td>\n",
       "      <td>7.000000</td>\n",
       "      <td>2.000000</td>\n",
       "      <td>0.000000</td>\n",
       "      <td>5.000000</td>\n",
       "      <td>10.000000</td>\n",
       "      <td>13.000000</td>\n",
       "      <td>8047.000000</td>\n",
       "    </tr>\n",
       "    <tr>\n",
       "      <th>75%</th>\n",
       "      <td>1.004478e+06</td>\n",
       "      <td>14.000000</td>\n",
       "      <td>3.000000</td>\n",
       "      <td>1.000000</td>\n",
       "      <td>8.000000</td>\n",
       "      <td>14.000000</td>\n",
       "      <td>13.000000</td>\n",
       "      <td>12054.000000</td>\n",
       "    </tr>\n",
       "    <tr>\n",
       "      <th>max</th>\n",
       "      <td>1.006040e+06</td>\n",
       "      <td>20.000000</td>\n",
       "      <td>4.000000</td>\n",
       "      <td>1.000000</td>\n",
       "      <td>20.000000</td>\n",
       "      <td>18.000000</td>\n",
       "      <td>18.000000</td>\n",
       "      <td>21400.500000</td>\n",
       "    </tr>\n",
       "  </tbody>\n",
       "</table>\n",
       "</div>"
      ],
      "text/plain": [
       "            User_ID     Occupation      City_Stay  Marital_Status  \\\n",
       "count  5.500680e+05  550068.000000  550068.000000   550068.000000   \n",
       "mean   1.003029e+06       8.076707       1.858418        0.409653   \n",
       "std    1.727592e+03       6.522660       1.289443        0.491770   \n",
       "min    1.000001e+06       0.000000       0.000000        0.000000   \n",
       "25%    1.001516e+06       2.000000       1.000000        0.000000   \n",
       "50%    1.003077e+06       7.000000       2.000000        0.000000   \n",
       "75%    1.004478e+06      14.000000       3.000000        1.000000   \n",
       "max    1.006040e+06      20.000000       4.000000        1.000000   \n",
       "\n",
       "            Product1       Product2       Product3       Purchase  \n",
       "count  550068.000000  550068.000000  550068.000000  550068.000000  \n",
       "mean        5.404270       9.892101      12.899387    9255.024296  \n",
       "std         3.936211       4.208490       2.276942    4999.516285  \n",
       "min         1.000000       2.000000       3.000000      12.000000  \n",
       "25%         1.000000       8.000000      13.000000    5823.000000  \n",
       "50%         5.000000      10.000000      13.000000    8047.000000  \n",
       "75%         8.000000      14.000000      13.000000   12054.000000  \n",
       "max        20.000000      18.000000      18.000000   21400.500000  "
      ]
     },
     "execution_count": 65,
     "metadata": {},
     "output_type": "execute_result"
    }
   ],
   "source": [
    "df.describe()"
   ]
  },
  {
   "cell_type": "markdown",
   "id": "05b0e3e6",
   "metadata": {},
   "source": [
    "## Mean of Purchase for each Gender according to Age"
   ]
  },
  {
   "cell_type": "code",
   "execution_count": 66,
   "id": "5073ee44",
   "metadata": {},
   "outputs": [
    {
     "data": {
      "text/html": [
       "<div>\n",
       "<style scoped>\n",
       "    .dataframe tbody tr th:only-of-type {\n",
       "        vertical-align: middle;\n",
       "    }\n",
       "\n",
       "    .dataframe tbody tr th {\n",
       "        vertical-align: top;\n",
       "    }\n",
       "\n",
       "    .dataframe thead th {\n",
       "        text-align: right;\n",
       "    }\n",
       "</style>\n",
       "<table border=\"1\" class=\"dataframe\">\n",
       "  <thead>\n",
       "    <tr style=\"text-align: right;\">\n",
       "      <th>Gender</th>\n",
       "      <th>F</th>\n",
       "      <th>M</th>\n",
       "    </tr>\n",
       "    <tr>\n",
       "      <th>Age</th>\n",
       "      <th></th>\n",
       "      <th></th>\n",
       "    </tr>\n",
       "  </thead>\n",
       "  <tbody>\n",
       "    <tr>\n",
       "      <th>Adult</th>\n",
       "      <td>8805.594226</td>\n",
       "      <td>9407.757830</td>\n",
       "    </tr>\n",
       "    <tr>\n",
       "      <th>Child</th>\n",
       "      <td>8331.026461</td>\n",
       "      <td>9227.157551</td>\n",
       "    </tr>\n",
       "    <tr>\n",
       "      <th>Old</th>\n",
       "      <td>9013.334212</td>\n",
       "      <td>9592.524574</td>\n",
       "    </tr>\n",
       "    <tr>\n",
       "      <th>Teenage</th>\n",
       "      <td>8339.706026</td>\n",
       "      <td>9434.812493</td>\n",
       "    </tr>\n",
       "  </tbody>\n",
       "</table>\n",
       "</div>"
      ],
      "text/plain": [
       "Gender             F            M\n",
       "Age                              \n",
       "Adult    8805.594226  9407.757830\n",
       "Child    8331.026461  9227.157551\n",
       "Old      9013.334212  9592.524574\n",
       "Teenage  8339.706026  9434.812493"
      ]
     },
     "execution_count": 66,
     "metadata": {},
     "output_type": "execute_result"
    }
   ],
   "source": [
    "pd.pivot_table(data = df, index = 'Age', values = 'Purchase', columns = ['Gender'], aggfunc = 'mean')"
   ]
  },
  {
   "cell_type": "markdown",
   "id": "be711569",
   "metadata": {},
   "source": [
    "## Mean of Purchase for each Gender according to Marital Status"
   ]
  },
  {
   "cell_type": "code",
   "execution_count": 67,
   "id": "45a7c4fb",
   "metadata": {},
   "outputs": [
    {
     "data": {
      "text/html": [
       "<div>\n",
       "<style scoped>\n",
       "    .dataframe tbody tr th:only-of-type {\n",
       "        vertical-align: middle;\n",
       "    }\n",
       "\n",
       "    .dataframe tbody tr th {\n",
       "        vertical-align: top;\n",
       "    }\n",
       "\n",
       "    .dataframe thead th {\n",
       "        text-align: right;\n",
       "    }\n",
       "</style>\n",
       "<table border=\"1\" class=\"dataframe\">\n",
       "  <thead>\n",
       "    <tr style=\"text-align: right;\">\n",
       "      <th>Marital_Status</th>\n",
       "      <th>0</th>\n",
       "      <th>1</th>\n",
       "    </tr>\n",
       "    <tr>\n",
       "      <th>Gender</th>\n",
       "      <th></th>\n",
       "      <th></th>\n",
       "    </tr>\n",
       "  </thead>\n",
       "  <tbody>\n",
       "    <tr>\n",
       "      <th>F</th>\n",
       "      <td>8672.561272</td>\n",
       "      <td>8800.522803</td>\n",
       "    </tr>\n",
       "    <tr>\n",
       "      <th>M</th>\n",
       "      <td>9445.012860</td>\n",
       "      <td>9404.068016</td>\n",
       "    </tr>\n",
       "  </tbody>\n",
       "</table>\n",
       "</div>"
      ],
      "text/plain": [
       "Marital_Status            0            1\n",
       "Gender                                  \n",
       "F               8672.561272  8800.522803\n",
       "M               9445.012860  9404.068016"
      ]
     },
     "execution_count": 67,
     "metadata": {},
     "output_type": "execute_result"
    }
   ],
   "source": [
    "pd.pivot_table(data = df, index = 'Gender', values = 'Purchase', columns = 'Marital_Status', aggfunc = 'mean')"
   ]
  },
  {
   "cell_type": "markdown",
   "id": "4bf78df6",
   "metadata": {},
   "source": [
    "## Mean of Purchase for each Gender according to City"
   ]
  },
  {
   "cell_type": "code",
   "execution_count": 68,
   "id": "a6a15d25",
   "metadata": {},
   "outputs": [
    {
     "data": {
      "text/html": [
       "<div>\n",
       "<style scoped>\n",
       "    .dataframe tbody tr th:only-of-type {\n",
       "        vertical-align: middle;\n",
       "    }\n",
       "\n",
       "    .dataframe tbody tr th {\n",
       "        vertical-align: top;\n",
       "    }\n",
       "\n",
       "    .dataframe thead th {\n",
       "        text-align: right;\n",
       "    }\n",
       "</style>\n",
       "<table border=\"1\" class=\"dataframe\">\n",
       "  <thead>\n",
       "    <tr style=\"text-align: right;\">\n",
       "      <th>Gender</th>\n",
       "      <th>F</th>\n",
       "      <th>M</th>\n",
       "    </tr>\n",
       "    <tr>\n",
       "      <th>City_Category</th>\n",
       "      <th></th>\n",
       "      <th></th>\n",
       "    </tr>\n",
       "  </thead>\n",
       "  <tbody>\n",
       "    <tr>\n",
       "      <th>A</th>\n",
       "      <td>8571.748684</td>\n",
       "      <td>9009.245706</td>\n",
       "    </tr>\n",
       "    <tr>\n",
       "      <th>B</th>\n",
       "      <td>8533.189581</td>\n",
       "      <td>9346.166957</td>\n",
       "    </tr>\n",
       "    <tr>\n",
       "      <th>C</th>\n",
       "      <td>9120.381136</td>\n",
       "      <td>9903.298803</td>\n",
       "    </tr>\n",
       "  </tbody>\n",
       "</table>\n",
       "</div>"
      ],
      "text/plain": [
       "Gender                   F            M\n",
       "City_Category                          \n",
       "A              8571.748684  9009.245706\n",
       "B              8533.189581  9346.166957\n",
       "C              9120.381136  9903.298803"
      ]
     },
     "execution_count": 68,
     "metadata": {},
     "output_type": "execute_result"
    }
   ],
   "source": [
    "pd.pivot_table(data = df, index = 'City_Category', values = 'Purchase', columns = 'Gender', aggfunc = 'mean')"
   ]
  },
  {
   "cell_type": "markdown",
   "id": "f672c4b2",
   "metadata": {},
   "source": [
    "## Sum of Purchase for each Age according to Marital_Status"
   ]
  },
  {
   "cell_type": "code",
   "execution_count": 69,
   "id": "4ba63593",
   "metadata": {},
   "outputs": [
    {
     "data": {
      "text/html": [
       "<div>\n",
       "<style scoped>\n",
       "    .dataframe tbody tr th:only-of-type {\n",
       "        vertical-align: middle;\n",
       "    }\n",
       "\n",
       "    .dataframe tbody tr th {\n",
       "        vertical-align: top;\n",
       "    }\n",
       "\n",
       "    .dataframe thead th {\n",
       "        text-align: right;\n",
       "    }\n",
       "</style>\n",
       "<table border=\"1\" class=\"dataframe\">\n",
       "  <thead>\n",
       "    <tr style=\"text-align: right;\">\n",
       "      <th>Marital_Status</th>\n",
       "      <th>0</th>\n",
       "      <th>1</th>\n",
       "    </tr>\n",
       "    <tr>\n",
       "      <th>Age</th>\n",
       "      <th></th>\n",
       "      <th></th>\n",
       "    </tr>\n",
       "  </thead>\n",
       "  <tbody>\n",
       "    <tr>\n",
       "      <th>Adult</th>\n",
       "      <td>9272.994095</td>\n",
       "      <td>9246.647967</td>\n",
       "    </tr>\n",
       "    <tr>\n",
       "      <th>Child</th>\n",
       "      <td>8925.539597</td>\n",
       "      <td>NaN</td>\n",
       "    </tr>\n",
       "    <tr>\n",
       "      <th>Old</th>\n",
       "      <td>9543.838532</td>\n",
       "      <td>9404.480246</td>\n",
       "    </tr>\n",
       "    <tr>\n",
       "      <th>Teenage</th>\n",
       "      <td>9211.257072</td>\n",
       "      <td>8989.115150</td>\n",
       "    </tr>\n",
       "  </tbody>\n",
       "</table>\n",
       "</div>"
      ],
      "text/plain": [
       "Marital_Status            0            1\n",
       "Age                                     \n",
       "Adult           9272.994095  9246.647967\n",
       "Child           8925.539597          NaN\n",
       "Old             9543.838532  9404.480246\n",
       "Teenage         9211.257072  8989.115150"
      ]
     },
     "execution_count": 69,
     "metadata": {},
     "output_type": "execute_result"
    }
   ],
   "source": [
    "pd.pivot_table(data = df, index = 'Age',values='Purchase', columns = 'Marital_Status', aggfunc = 'mean')"
   ]
  },
  {
   "cell_type": "markdown",
   "id": "30c07209",
   "metadata": {},
   "source": [
    "## Mean of Purchase for each Gender according to city"
   ]
  },
  {
   "cell_type": "code",
   "execution_count": 70,
   "id": "0d7bb56c",
   "metadata": {},
   "outputs": [
    {
     "data": {
      "text/html": [
       "<div>\n",
       "<style scoped>\n",
       "    .dataframe tbody tr th:only-of-type {\n",
       "        vertical-align: middle;\n",
       "    }\n",
       "\n",
       "    .dataframe tbody tr th {\n",
       "        vertical-align: top;\n",
       "    }\n",
       "\n",
       "    .dataframe thead th {\n",
       "        text-align: right;\n",
       "    }\n",
       "</style>\n",
       "<table border=\"1\" class=\"dataframe\">\n",
       "  <thead>\n",
       "    <tr style=\"text-align: right;\">\n",
       "      <th>City_Category</th>\n",
       "      <th>A</th>\n",
       "      <th>B</th>\n",
       "      <th>C</th>\n",
       "    </tr>\n",
       "    <tr>\n",
       "      <th>Gender</th>\n",
       "      <th></th>\n",
       "      <th></th>\n",
       "      <th></th>\n",
       "    </tr>\n",
       "  </thead>\n",
       "  <tbody>\n",
       "    <tr>\n",
       "      <th>F</th>\n",
       "      <td>8571.748684</td>\n",
       "      <td>8533.189581</td>\n",
       "      <td>9120.381136</td>\n",
       "    </tr>\n",
       "    <tr>\n",
       "      <th>M</th>\n",
       "      <td>9009.245706</td>\n",
       "      <td>9346.166957</td>\n",
       "      <td>9903.298803</td>\n",
       "    </tr>\n",
       "  </tbody>\n",
       "</table>\n",
       "</div>"
      ],
      "text/plain": [
       "City_Category            A            B            C\n",
       "Gender                                              \n",
       "F              8571.748684  8533.189581  9120.381136\n",
       "M              9009.245706  9346.166957  9903.298803"
      ]
     },
     "execution_count": 70,
     "metadata": {},
     "output_type": "execute_result"
    }
   ],
   "source": [
    "pd.pivot_table(data = df, index = 'Gender',values = 'Purchase', columns = 'City_Category', aggfunc = 'mean')"
   ]
  },
  {
   "cell_type": "code",
   "execution_count": 71,
   "id": "4665f213",
   "metadata": {},
   "outputs": [
    {
     "data": {
      "text/html": [
       "<div>\n",
       "<style scoped>\n",
       "    .dataframe tbody tr th:only-of-type {\n",
       "        vertical-align: middle;\n",
       "    }\n",
       "\n",
       "    .dataframe tbody tr th {\n",
       "        vertical-align: top;\n",
       "    }\n",
       "\n",
       "    .dataframe thead th {\n",
       "        text-align: right;\n",
       "    }\n",
       "</style>\n",
       "<table border=\"1\" class=\"dataframe\">\n",
       "  <thead>\n",
       "    <tr style=\"text-align: right;\">\n",
       "      <th>City_Category</th>\n",
       "      <th>A</th>\n",
       "      <th>B</th>\n",
       "      <th>C</th>\n",
       "    </tr>\n",
       "    <tr>\n",
       "      <th>Age</th>\n",
       "      <th></th>\n",
       "      <th></th>\n",
       "      <th></th>\n",
       "    </tr>\n",
       "  </thead>\n",
       "  <tbody>\n",
       "    <tr>\n",
       "      <th>Adult</th>\n",
       "      <td>8910.513133</td>\n",
       "      <td>9141.429202</td>\n",
       "      <td>9791.260539</td>\n",
       "    </tr>\n",
       "    <tr>\n",
       "      <th>Child</th>\n",
       "      <td>8601.165291</td>\n",
       "      <td>8907.227047</td>\n",
       "      <td>9055.363681</td>\n",
       "    </tr>\n",
       "    <tr>\n",
       "      <th>Old</th>\n",
       "      <td>9117.297198</td>\n",
       "      <td>9429.827555</td>\n",
       "      <td>9579.696099</td>\n",
       "    </tr>\n",
       "    <tr>\n",
       "      <th>Teenage</th>\n",
       "      <td>8828.847885</td>\n",
       "      <td>9026.061704</td>\n",
       "      <td>9690.792783</td>\n",
       "    </tr>\n",
       "  </tbody>\n",
       "</table>\n",
       "</div>"
      ],
      "text/plain": [
       "City_Category            A            B            C\n",
       "Age                                                 \n",
       "Adult          8910.513133  9141.429202  9791.260539\n",
       "Child          8601.165291  8907.227047  9055.363681\n",
       "Old            9117.297198  9429.827555  9579.696099\n",
       "Teenage        8828.847885  9026.061704  9690.792783"
      ]
     },
     "execution_count": 71,
     "metadata": {},
     "output_type": "execute_result"
    }
   ],
   "source": [
    "pd.pivot_table(data = df, index = 'Age',values = 'Purchase', columns = 'City_Category', aggfunc = 'mean')"
   ]
  },
  {
   "cell_type": "markdown",
   "id": "8ab69ef1",
   "metadata": {},
   "source": [
    "## Mean of Purchase on the bases of Gender, Age, City and Stay in City"
   ]
  },
  {
   "cell_type": "code",
   "execution_count": 72,
   "id": "a50bde19",
   "metadata": {},
   "outputs": [
    {
     "data": {
      "text/html": [
       "<div>\n",
       "<style scoped>\n",
       "    .dataframe tbody tr th:only-of-type {\n",
       "        vertical-align: middle;\n",
       "    }\n",
       "\n",
       "    .dataframe tbody tr th {\n",
       "        vertical-align: top;\n",
       "    }\n",
       "\n",
       "    .dataframe thead tr th {\n",
       "        text-align: left;\n",
       "    }\n",
       "\n",
       "    .dataframe thead tr:last-of-type th {\n",
       "        text-align: right;\n",
       "    }\n",
       "</style>\n",
       "<table border=\"1\" class=\"dataframe\">\n",
       "  <thead>\n",
       "    <tr>\n",
       "      <th></th>\n",
       "      <th>City_Category</th>\n",
       "      <th colspan=\"5\" halign=\"left\">A</th>\n",
       "      <th colspan=\"5\" halign=\"left\">B</th>\n",
       "      <th colspan=\"5\" halign=\"left\">C</th>\n",
       "    </tr>\n",
       "    <tr>\n",
       "      <th></th>\n",
       "      <th>City_Stay</th>\n",
       "      <th>0</th>\n",
       "      <th>1</th>\n",
       "      <th>2</th>\n",
       "      <th>3</th>\n",
       "      <th>4</th>\n",
       "      <th>0</th>\n",
       "      <th>1</th>\n",
       "      <th>2</th>\n",
       "      <th>3</th>\n",
       "      <th>4</th>\n",
       "      <th>0</th>\n",
       "      <th>1</th>\n",
       "      <th>2</th>\n",
       "      <th>3</th>\n",
       "      <th>4</th>\n",
       "    </tr>\n",
       "    <tr>\n",
       "      <th>Age</th>\n",
       "      <th>Gender</th>\n",
       "      <th></th>\n",
       "      <th></th>\n",
       "      <th></th>\n",
       "      <th></th>\n",
       "      <th></th>\n",
       "      <th></th>\n",
       "      <th></th>\n",
       "      <th></th>\n",
       "      <th></th>\n",
       "      <th></th>\n",
       "      <th></th>\n",
       "      <th></th>\n",
       "      <th></th>\n",
       "      <th></th>\n",
       "      <th></th>\n",
       "    </tr>\n",
       "  </thead>\n",
       "  <tbody>\n",
       "    <tr>\n",
       "      <th rowspan=\"2\" valign=\"top\">Adult</th>\n",
       "      <th>F</th>\n",
       "      <td>8928.956562</td>\n",
       "      <td>8669.450531</td>\n",
       "      <td>8480.478859</td>\n",
       "      <td>8729.622760</td>\n",
       "      <td>8704.778140</td>\n",
       "      <td>8591.841377</td>\n",
       "      <td>8621.475364</td>\n",
       "      <td>8630.307600</td>\n",
       "      <td>8624.457332</td>\n",
       "      <td>8642.953596</td>\n",
       "      <td>8989.235225</td>\n",
       "      <td>9239.628000</td>\n",
       "      <td>9164.204042</td>\n",
       "      <td>9016.187485</td>\n",
       "      <td>9344.642013</td>\n",
       "    </tr>\n",
       "    <tr>\n",
       "      <th>M</th>\n",
       "      <td>9167.410452</td>\n",
       "      <td>8833.293138</td>\n",
       "      <td>9047.609402</td>\n",
       "      <td>9099.840581</td>\n",
       "      <td>8859.911209</td>\n",
       "      <td>9174.758386</td>\n",
       "      <td>9299.972453</td>\n",
       "      <td>9350.676253</td>\n",
       "      <td>9258.245912</td>\n",
       "      <td>9459.216468</td>\n",
       "      <td>9910.253510</td>\n",
       "      <td>9981.249065</td>\n",
       "      <td>10079.969997</td>\n",
       "      <td>9988.421811</td>\n",
       "      <td>9954.284012</td>\n",
       "    </tr>\n",
       "    <tr>\n",
       "      <th rowspan=\"2\" valign=\"top\">Child</th>\n",
       "      <th>F</th>\n",
       "      <td>5631.365714</td>\n",
       "      <td>7984.401198</td>\n",
       "      <td>7951.549724</td>\n",
       "      <td>8214.097754</td>\n",
       "      <td>NaN</td>\n",
       "      <td>9818.735023</td>\n",
       "      <td>8835.022282</td>\n",
       "      <td>8696.612226</td>\n",
       "      <td>10200.467391</td>\n",
       "      <td>5581.950495</td>\n",
       "      <td>9101.980198</td>\n",
       "      <td>8217.020057</td>\n",
       "      <td>7540.480583</td>\n",
       "      <td>8844.476868</td>\n",
       "      <td>9204.871345</td>\n",
       "    </tr>\n",
       "    <tr>\n",
       "      <th>M</th>\n",
       "      <td>9702.305732</td>\n",
       "      <td>8753.769634</td>\n",
       "      <td>10518.326291</td>\n",
       "      <td>10041.094203</td>\n",
       "      <td>NaN</td>\n",
       "      <td>10106.606218</td>\n",
       "      <td>9575.832160</td>\n",
       "      <td>8395.221012</td>\n",
       "      <td>8836.115732</td>\n",
       "      <td>8024.922249</td>\n",
       "      <td>9217.713734</td>\n",
       "      <td>9481.369850</td>\n",
       "      <td>9125.735461</td>\n",
       "      <td>9703.215630</td>\n",
       "      <td>9266.539501</td>\n",
       "    </tr>\n",
       "    <tr>\n",
       "      <th rowspan=\"2\" valign=\"top\">Old</th>\n",
       "      <th>F</th>\n",
       "      <td>9147.204420</td>\n",
       "      <td>8407.219494</td>\n",
       "      <td>9122.068122</td>\n",
       "      <td>8791.981527</td>\n",
       "      <td>8330.102362</td>\n",
       "      <td>8538.679487</td>\n",
       "      <td>9006.894863</td>\n",
       "      <td>9189.647759</td>\n",
       "      <td>8805.358002</td>\n",
       "      <td>8319.149718</td>\n",
       "      <td>9317.651222</td>\n",
       "      <td>8988.150500</td>\n",
       "      <td>9373.281116</td>\n",
       "      <td>9517.299839</td>\n",
       "      <td>9112.294996</td>\n",
       "    </tr>\n",
       "    <tr>\n",
       "      <th>M</th>\n",
       "      <td>8831.406907</td>\n",
       "      <td>9698.179165</td>\n",
       "      <td>8856.176563</td>\n",
       "      <td>9885.327391</td>\n",
       "      <td>8721.388959</td>\n",
       "      <td>8886.944836</td>\n",
       "      <td>9734.992895</td>\n",
       "      <td>9177.148708</td>\n",
       "      <td>10070.046447</td>\n",
       "      <td>9746.228868</td>\n",
       "      <td>10077.007862</td>\n",
       "      <td>9639.302154</td>\n",
       "      <td>9693.004234</td>\n",
       "      <td>9729.384009</td>\n",
       "      <td>9722.606599</td>\n",
       "    </tr>\n",
       "    <tr>\n",
       "      <th rowspan=\"2\" valign=\"top\">Teenage</th>\n",
       "      <th>F</th>\n",
       "      <td>7491.834646</td>\n",
       "      <td>9059.285279</td>\n",
       "      <td>8491.219700</td>\n",
       "      <td>7095.933099</td>\n",
       "      <td>8275.856239</td>\n",
       "      <td>7672.517878</td>\n",
       "      <td>7869.792283</td>\n",
       "      <td>8184.931947</td>\n",
       "      <td>8580.095147</td>\n",
       "      <td>8103.504535</td>\n",
       "      <td>9108.621977</td>\n",
       "      <td>9094.172036</td>\n",
       "      <td>9147.061388</td>\n",
       "      <td>9088.724792</td>\n",
       "      <td>8928.303832</td>\n",
       "    </tr>\n",
       "    <tr>\n",
       "      <th>M</th>\n",
       "      <td>8864.500248</td>\n",
       "      <td>9018.655443</td>\n",
       "      <td>9453.710912</td>\n",
       "      <td>8972.549029</td>\n",
       "      <td>8958.103741</td>\n",
       "      <td>8937.823259</td>\n",
       "      <td>9578.887719</td>\n",
       "      <td>9642.015875</td>\n",
       "      <td>9580.449383</td>\n",
       "      <td>9096.899831</td>\n",
       "      <td>10267.125000</td>\n",
       "      <td>9515.738238</td>\n",
       "      <td>10028.425393</td>\n",
       "      <td>10049.797459</td>\n",
       "      <td>9878.774395</td>\n",
       "    </tr>\n",
       "  </tbody>\n",
       "</table>\n",
       "</div>"
      ],
      "text/plain": [
       "City_Category             A                                           \\\n",
       "City_Stay                 0            1             2             3   \n",
       "Age     Gender                                                         \n",
       "Adult   F       8928.956562  8669.450531   8480.478859   8729.622760   \n",
       "        M       9167.410452  8833.293138   9047.609402   9099.840581   \n",
       "Child   F       5631.365714  7984.401198   7951.549724   8214.097754   \n",
       "        M       9702.305732  8753.769634  10518.326291  10041.094203   \n",
       "Old     F       9147.204420  8407.219494   9122.068122   8791.981527   \n",
       "        M       8831.406907  9698.179165   8856.176563   9885.327391   \n",
       "Teenage F       7491.834646  9059.285279   8491.219700   7095.933099   \n",
       "        M       8864.500248  9018.655443   9453.710912   8972.549029   \n",
       "\n",
       "City_Category                           B                            \\\n",
       "City_Stay                 4             0            1            2   \n",
       "Age     Gender                                                        \n",
       "Adult   F       8704.778140   8591.841377  8621.475364  8630.307600   \n",
       "        M       8859.911209   9174.758386  9299.972453  9350.676253   \n",
       "Child   F               NaN   9818.735023  8835.022282  8696.612226   \n",
       "        M               NaN  10106.606218  9575.832160  8395.221012   \n",
       "Old     F       8330.102362   8538.679487  9006.894863  9189.647759   \n",
       "        M       8721.388959   8886.944836  9734.992895  9177.148708   \n",
       "Teenage F       8275.856239   7672.517878  7869.792283  8184.931947   \n",
       "        M       8958.103741   8937.823259  9578.887719  9642.015875   \n",
       "\n",
       "City_Category                                         C               \\\n",
       "City_Stay                  3            4             0            1   \n",
       "Age     Gender                                                         \n",
       "Adult   F        8624.457332  8642.953596   8989.235225  9239.628000   \n",
       "        M        9258.245912  9459.216468   9910.253510  9981.249065   \n",
       "Child   F       10200.467391  5581.950495   9101.980198  8217.020057   \n",
       "        M        8836.115732  8024.922249   9217.713734  9481.369850   \n",
       "Old     F        8805.358002  8319.149718   9317.651222  8988.150500   \n",
       "        M       10070.046447  9746.228868  10077.007862  9639.302154   \n",
       "Teenage F        8580.095147  8103.504535   9108.621977  9094.172036   \n",
       "        M        9580.449383  9096.899831  10267.125000  9515.738238   \n",
       "\n",
       "City_Category                                            \n",
       "City_Stay                  2             3            4  \n",
       "Age     Gender                                           \n",
       "Adult   F        9164.204042   9016.187485  9344.642013  \n",
       "        M       10079.969997   9988.421811  9954.284012  \n",
       "Child   F        7540.480583   8844.476868  9204.871345  \n",
       "        M        9125.735461   9703.215630  9266.539501  \n",
       "Old     F        9373.281116   9517.299839  9112.294996  \n",
       "        M        9693.004234   9729.384009  9722.606599  \n",
       "Teenage F        9147.061388   9088.724792  8928.303832  \n",
       "        M       10028.425393  10049.797459  9878.774395  "
      ]
     },
     "execution_count": 72,
     "metadata": {},
     "output_type": "execute_result"
    }
   ],
   "source": [
    "pd.pivot_table(data = df, index = ('Age', 'Gender'), values = 'Purchase', columns = ['City_Category', 'City_Stay'], aggfunc = 'mean')"
   ]
  },
  {
   "cell_type": "markdown",
   "id": "18eb861c",
   "metadata": {},
   "source": [
    "***\n",
    "# DATA VISUALISATION\n",
    "\n",
    "* For data visulaisation, we use \n",
    "1. ***`Seaborn`***\n",
    "2. ***`Matplotlib`***"
   ]
  },
  {
   "cell_type": "code",
   "execution_count": 73,
   "id": "8bdcbdbe",
   "metadata": {},
   "outputs": [
    {
     "data": {
      "image/png": "[encoded data removed]",
      "text/plain": [
       "<Figure size 400x400 with 1 Axes>"
      ]
     },
     "metadata": {},
     "output_type": "display_data"
    },
    {
     "name": "stdout",
     "output_type": "stream",
     "text": [
      "[414259 135809]\n"
     ]
    }
   ],
   "source": [
    "# Column : Gender\n",
    "\n",
    "plt.figure(figsize = (5,5), dpi = 80)\n",
    "plt.title('Gender')\n",
    "sns.countplot(df['Gender'], palette=\"rocket_r\")\n",
    "\n",
    "plt.show()\n",
    "print(df['Gender'].value_counts().unique())"
   ]
  },
  {
   "cell_type": "markdown",
   "id": "128d7873",
   "metadata": {},
   "source": [
    "* This tells us that there are more males buying different products during the Black Friday Sale than females.\n",
    "1. Total Male Count : 4,14,259\n",
    "2. Total Female Count : 1,35,809"
   ]
  },
  {
   "cell_type": "markdown",
   "id": "8649862e",
   "metadata": {},
   "source": [
    "## Column : Age"
   ]
  },
  {
   "cell_type": "code",
   "execution_count": 74,
   "id": "0e8bf759",
   "metadata": {},
   "outputs": [
    {
     "data": {
      "image/png": "[encoded data removed]",
      "text/plain": [
       "<Figure size 500x400 with 1 Axes>"
      ]
     },
     "metadata": {},
     "output_type": "display_data"
    },
    {
     "name": "stdout",
     "output_type": "stream",
     "text": [
      "[375301  99660  60005  15102]\n"
     ]
    }
   ],
   "source": [
    "plt.figure(figsize = (5,4))\n",
    "plt.title('Age')\n",
    "sns.countplot(data=df, x = 'Age', palette = 'crest')\n",
    "\n",
    "plt.show()\n",
    "print(df['Age'].value_counts().unique())"
   ]
  },
  {
   "cell_type": "markdown",
   "id": "b55840e3",
   "metadata": {},
   "source": [
    "* The graph clearly tells us that Adults (26 - 50 years) visit the stores during the Back Friday Sale in huge numbers whereas stores are least visited by the Children (0 - 17 years)."
   ]
  },
  {
   "cell_type": "raw",
   "id": "d92009e5",
   "metadata": {},
   "source": [
    "1. Total Children Visiting the Store : 15,102 \n",
    "2. Total Children Visiting the Store : 99,660\n",
    "3. Total Children Visiting the Store : 3,75,301 \n",
    "4. Total Children Visiting the Store : 60,005"
   ]
  },
  {
   "cell_type": "markdown",
   "id": "e650d3f6",
   "metadata": {},
   "source": [
    "## Column : Occupation"
   ]
  },
  {
   "cell_type": "code",
   "execution_count": 75,
   "id": "10697d54",
   "metadata": {},
   "outputs": [
    {
     "data": {
      "image/png": "[encoded data removed]",
      "text/plain": [
       "<Figure size 600x500 with 1 Axes>"
      ]
     },
     "metadata": {},
     "output_type": "display_data"
    }
   ],
   "source": [
    "plt.figure(figsize = (6,5), dpi = 100)\n",
    "plt.title('Occupation')\n",
    "sns.countplot(df['Occupation'], palette = 'crest_r')\n",
    "plt.show()"
   ]
  },
  {
   "cell_type": "markdown",
   "id": "fca1089f",
   "metadata": {},
   "source": [
    "## Column : City_Category"
   ]
  },
  {
   "cell_type": "code",
   "execution_count": 76,
   "id": "00d67142",
   "metadata": {},
   "outputs": [
    {
     "data": {
      "image/png": "[encoded data removed]",
      "text/plain": [
       "<Figure size 480x400 with 1 Axes>"
      ]
     },
     "metadata": {},
     "output_type": "display_data"
    },
    {
     "name": "stdout",
     "output_type": "stream",
     "text": [
      "[231173 171175 147720]\n"
     ]
    }
   ],
   "source": [
    "plt.figure(figsize = (6,5), dpi = 80)\n",
    "plt.title('City_ Category')\n",
    "sns.countplot(data = df, x = 'City_Category', palette = 'inferno')\n",
    "\n",
    "plt.show()\n",
    "print(df['City_Category'].value_counts().unique())"
   ]
  },
  {
   "cell_type": "markdown",
   "id": "8295f4f4",
   "metadata": {},
   "source": [
    "# City_Category (Percentage Distribution)\n"
   ]
  },
  {
   "cell_type": "code",
   "execution_count": 77,
   "id": "336eef56",
   "metadata": {},
   "outputs": [
    {
     "data": {
      "image/png": "[encoded data removed]",
      "text/plain": [
       "<Figure size 400x400 with 1 Axes>"
      ]
     },
     "metadata": {},
     "output_type": "display_data"
    }
   ],
   "source": [
    "data = df['City_Category'].value_counts(ascending = True) # Counting the unique values frquencies\n",
    "\n",
    "labels = df['City_Category'].unique()  # Creating unique value labels\n",
    "\n",
    "plt.figure(figsize = (5,5), dpi = 80)\n",
    "plt.title('City_Category', size = 15)\n",
    "\n",
    "# Define seaborn color palette to use\n",
    "colors = sns.color_palette('muted')\n",
    "# colors name = (spectral,deep, muted, bright, pastel, dark, colorblind, husl,hls)\n",
    "\n",
    "# Creating pie chart\n",
    "plt.pie(data, labels = labels, colors = colors, autopct = '%.0f%%')\n",
    "\n",
    "plt.show()"
   ]
  },
  {
   "cell_type": "markdown",
   "id": "3d94245e",
   "metadata": {},
   "source": [
    "* People visiting the store maximum belong to **City_Category B** while the store is least visited by people belonging to **City Category A**.\n",
    "1. Total People of City **A** : <font color = 'blue'> 1,47,720 </font>\n",
    "2. Total People of City **B** : <font color = 'blue'> 2,31,173 </font>\n",
    "3. Total People of City **C** : <font color = 'blue'> 1,71,175 </font>\n",
    "* This shows that **City A**, **City B**, and **City C** has contributed **27%, 42%, and 31%** respectively to the total purchase made on Black Friday Sale.\n",
    "* we can also say that **maximum** stores are located in **City B**"
   ]
  },
  {
   "cell_type": "markdown",
   "id": "dbc89083",
   "metadata": {},
   "source": [
    "# Column : Stay in Current City"
   ]
  },
  {
   "cell_type": "code",
   "execution_count": 78,
   "id": "f8972e09",
   "metadata": {},
   "outputs": [
    {
     "data": {
      "image/png": "[encoded data removed]",
      "text/plain": [
       "<Figure size 400x400 with 1 Axes>"
      ]
     },
     "metadata": {},
     "output_type": "display_data"
    }
   ],
   "source": [
    "plt.figure(figsize = (5,5), dpi = 80)\n",
    "plt.title('Stay in current city')\n",
    "sns.countplot(df['City_Stay'], palette = 'hot')\n",
    "\n",
    "plt.show()"
   ]
  },
  {
   "cell_type": "raw",
   "id": "957029bd",
   "metadata": {},
   "source": [
    "Maximum people visiting the store during the sale have been living in the city for 1 year while they are least visited by people who have newly setteled in the city"
   ]
  },
  {
   "cell_type": "markdown",
   "id": "d3edf0ca",
   "metadata": {},
   "source": [
    "## Columns : Marital Status"
   ]
  },
  {
   "cell_type": "code",
   "execution_count": 79,
   "id": "4331a65f",
   "metadata": {},
   "outputs": [
    {
     "data": {
      "image/png": "[encoded data removed]",
      "text/plain": [
       "<Figure size 400x400 with 1 Axes>"
      ]
     },
     "metadata": {},
     "output_type": "display_data"
    },
    {
     "name": "stdout",
     "output_type": "stream",
     "text": [
      "[324731 225337]\n"
     ]
    }
   ],
   "source": [
    "plt.figure(figsize = (5,5), dpi = 80)\n",
    "plt.title('Marital_Status')\n",
    "sns.countplot(df['Marital_Status'], palette = 'hot_r')\n",
    "\n",
    "plt.show()\n",
    "print(df['Marital_Status'].value_counts().unique())"
   ]
  },
  {
   "cell_type": "markdown",
   "id": "9e0583a8",
   "metadata": {},
   "source": [
    "# Column : Marital Status (Percentage Distibution)"
   ]
  },
  {
   "cell_type": "code",
   "execution_count": 80,
   "id": "07e0b754",
   "metadata": {},
   "outputs": [
    {
     "data": {
      "image/png": "[encoded data removed]",
      "text/plain": [
       "<Figure size 400x400 with 1 Axes>"
      ]
     },
     "metadata": {},
     "output_type": "display_data"
    }
   ],
   "source": [
    "# Define data\n",
    "data = df['Marital_Status'].value_counts()   # counting the unique values frequency\n",
    "labels = df['Marital_Status'].unique()  # creating unique values labels\n",
    "\n",
    "plt.figure(figsize = (5,5), dpi = 80)\n",
    "plt.title('Marital_Status', size = 15)\n",
    "# Married = 0\n",
    "# Unmarried = 1\n",
    "\n",
    "# Define Seaborn color palette to use\n",
    "colors = sns.color_palette('pastel')\n",
    "\n",
    "# Create Pie Chart\n",
    "plt.pie(data, labels = labels, colors = colors, autopct = '%.0f%%')\n",
    "\n",
    "plt.show()"
   ]
  },
  {
   "cell_type": "markdown",
   "id": "6008c06e",
   "metadata": {},
   "source": [
    "**Unmarried** People visiting the store are in huge amount as compared to **Married** during the ***Black Friday Sale***\n",
    "1. Total **Single** People  : <font color = 'blue'> 3,24,731 </font>\n",
    "2. Total **Married** People : <font color = 'blue'> 2,25,337 </font>\n",
    "\n",
    "This shows that **Unmarried and Married** people have contributed **59% and 41%** respectively to the **total purchase** made on ***Black Friday Sale.***"
   ]
  },
  {
   "cell_type": "markdown",
   "id": "1fe17559",
   "metadata": {},
   "source": [
    "# Column : Product1"
   ]
  },
  {
   "cell_type": "code",
   "execution_count": 81,
   "id": "2f2f1b48",
   "metadata": {},
   "outputs": [
    {
     "data": {
      "image/png": "[encoded data removed]",
      "text/plain": [
       "<Figure size 400x400 with 1 Axes>"
      ]
     },
     "metadata": {},
     "output_type": "display_data"
    }
   ],
   "source": [
    "plt.figure(figsize = (5,5), dpi = 80)\n",
    "plt.title('Product_1')\n",
    "\n",
    "sns.countplot(df['Product1'], palette = 'viridis')\n",
    "\n",
    "plt.show()"
   ]
  },
  {
   "cell_type": "markdown",
   "id": "aee8144b",
   "metadata": {},
   "source": [
    "# Column : Product_2"
   ]
  },
  {
   "cell_type": "code",
   "execution_count": 82,
   "id": "74077471",
   "metadata": {},
   "outputs": [
    {
     "data": {
      "image/png": "[encoded data removed]",
      "text/plain": [
       "<Figure size 400x400 with 1 Axes>"
      ]
     },
     "metadata": {},
     "output_type": "display_data"
    }
   ],
   "source": [
    "plt.figure(figsize = (5,5), dpi = 80)\n",
    "plt.title('Product_2')\n",
    "\n",
    "sns.countplot(df['Product2'], palette = 'viridis')\n",
    "\n",
    "plt.show()"
   ]
  },
  {
   "cell_type": "markdown",
   "id": "fec090f6",
   "metadata": {},
   "source": [
    "# Column : Product_3"
   ]
  },
  {
   "cell_type": "code",
   "execution_count": 83,
   "id": "6fbb915f",
   "metadata": {},
   "outputs": [
    {
     "data": {
      "image/png": "[encoded data removed]",
      "text/plain": [
       "<Figure size 400x400 with 1 Axes>"
      ]
     },
     "metadata": {},
     "output_type": "display_data"
    }
   ],
   "source": [
    "plt.figure(figsize = (5,5), dpi = 80)\n",
    "plt.title('Product_3')\n",
    "\n",
    "sns.countplot(df['Product3'], palette = 'viridis')\n",
    "\n",
    "plt.show()"
   ]
  },
  {
   "cell_type": "markdown",
   "id": "667f768c",
   "metadata": {},
   "source": [
    "# Column : Purchase"
   ]
  },
  {
   "cell_type": "code",
   "execution_count": 84,
   "id": "cedf0e61",
   "metadata": {},
   "outputs": [
    {
     "data": {
      "image/png": "[encoded data removed]",
      "text/plain": [
       "<Figure size 640x480 with 1 Axes>"
      ]
     },
     "metadata": {},
     "output_type": "display_data"
    }
   ],
   "source": [
    "plt.title('Purchase')\n",
    "sns.kdeplot(df['Purchase'], color = 'brown')\n",
    "\n",
    "plt.show()"
   ]
  },
  {
   "cell_type": "markdown",
   "id": "dadcc361",
   "metadata": {},
   "source": [
    "* Purchase rate is highest between the range of 5000-10,000.\n",
    "* Purchase rate even goes upto range 25,000."
   ]
  },
  {
   "cell_type": "markdown",
   "id": "1f66b5dc",
   "metadata": {},
   "source": [
    "# Gender vs Purchase"
   ]
  },
  {
   "cell_type": "code",
   "execution_count": 85,
   "id": "0778916b",
   "metadata": {},
   "outputs": [
    {
     "data": {
      "image/png": "[encoded data removed]",
      "text/plain": [
       "<Figure size 400x400 with 1 Axes>"
      ]
     },
     "metadata": {},
     "output_type": "display_data"
    }
   ],
   "source": [
    "plt.figure(figsize = (5,5), dpi = 80)\n",
    "\n",
    "plt.title('Gender vs Purchase', size = 10)\n",
    "\n",
    "sns.barplot(x = 'Gender', y = 'Purchase', data = df, palette = 'brg')\n",
    "plt.xlabel('Gender', size = 12)\n",
    "plt.ylabel('Purchase', size = 12)\n",
    "\n",
    "plt.show()"
   ]
  },
  {
   "cell_type": "markdown",
   "id": "7e74c796",
   "metadata": {},
   "source": [
    "# Subplot of all columns with Purchase"
   ]
  },
  {
   "cell_type": "code",
   "execution_count": 86,
   "id": "d15eda30",
   "metadata": {},
   "outputs": [
    {
     "data": {
      "image/png": "[encoded data removed]",
      "text/plain": [
       "<Figure size 720x720 with 4 Axes>"
      ]
     },
     "metadata": {},
     "output_type": "display_data"
    }
   ],
   "source": [
    "plt.figure(figsize = (9,9), dpi = 80)\n",
    "\n",
    "plt.subplot(2,2,1)\n",
    "plt.title('Age vs Purchase', size = 10)\n",
    "sns.barplot(x = 'Age', y = 'Purchase', data = df, palette = 'rocket', hue = 'Gender')\n",
    "plt.xlabel('Age', size = 10)\n",
    "plt.ylabel('Purchase', size = 10)\n",
    "\n",
    "\n",
    "plt.subplot(2,2,2)\n",
    "plt.title('Marital_Status vs Purchase', size = 10)\n",
    "sns.barplot(x = 'Marital_Status', y = 'Purchase', data = df, palette = 'viridis', hue = 'Gender')\n",
    "plt.xlabel('Marital_Status', size = 10)\n",
    "plt.ylabel('Purchase', size = 10)\n",
    "\n",
    "\n",
    "plt.subplot(2,2,3)\n",
    "plt.title('City vs Purchase', size = 10)\n",
    "sns.barplot(x = 'City_Category', y = 'Purchase', data = df, palette = 'Purples', hue = 'Gender')\n",
    "plt.xlabel('City', size = 10)\n",
    "plt.ylabel('Purchase', size = 10)\n",
    "\n",
    "\n",
    "plt.subplot(2,2,4)\n",
    "plt.title('City_Stay vs Purchase', size = 10)\n",
    "sns.barplot(x = 'City_Stay', y = 'Purchase', data = df, palette = 'mako_r', hue = 'Gender')\n",
    "plt.xlabel('City_Stay', size = 10)\n",
    "plt.ylabel('Purchase', size = 10)\n",
    "\n",
    "plt.tight_layout()\n",
    "plt.show()"
   ]
  },
  {
   "cell_type": "raw",
   "id": "9fbf66d8",
   "metadata": {},
   "source": [
    "From the above respresentation, we can see that as compared to Female, Male population has high purchasing rate "
   ]
  },
  {
   "cell_type": "markdown",
   "id": "13ea9f0f",
   "metadata": {},
   "source": [
    "# Age vs Purchase"
   ]
  },
  {
   "cell_type": "code",
   "execution_count": 87,
   "id": "e1ea6527",
   "metadata": {},
   "outputs": [
    {
     "data": {
      "image/png": "[encoded data removed]",
      "text/plain": [
       "<Figure size 400x400 with 1 Axes>"
      ]
     },
     "metadata": {},
     "output_type": "display_data"
    }
   ],
   "source": [
    "plt.figure(figsize = (5,5), dpi = 80)\n",
    "plt.title('Age vs Purchase')\n",
    "sns.barplot(x = 'Age', y = 'Purchase', data = df, palette = 'Set2')\n",
    "plt.xlabel('Age', size = 15)\n",
    "plt.ylabel('Purchase', size = 15)\n",
    "plt.show()"
   ]
  },
  {
   "cell_type": "markdown",
   "id": "43ebb50e",
   "metadata": {},
   "source": [
    "# Subplots"
   ]
  },
  {
   "cell_type": "code",
   "execution_count": 88,
   "id": "1e7b5f51",
   "metadata": {},
   "outputs": [
    {
     "data": {
      "image/png": "[encoded data removed]",
      "text/plain": [
       "<Figure size 720x720 with 4 Axes>"
      ]
     },
     "metadata": {},
     "output_type": "display_data"
    }
   ],
   "source": [
    "plt.figure(figsize = (9,9), dpi = 80)\n",
    "\n",
    "# Gender vs Purchase\n",
    "plt.subplot(2,2,1)\n",
    "plt.title('Gender vs Purchase')\n",
    "sns.barplot(x = 'Gender', y = 'Purchase', data = df, palette = 'rocket', hue = 'Age')\n",
    "plt.xlabel('Gender', size = 10)\n",
    "plt.ylabel('Purchase', size = 10)\n",
    "\n",
    "# Marital_Status vs Purchase\n",
    "plt.subplot(2,2,2)\n",
    "plt.title('Marital_Status vs Purchase')\n",
    "sns.barplot(x = 'Marital_Status', y = 'Purchase', data = df, palette = 'viridis', hue = 'Age')\n",
    "plt.xlabel('Marital_Status', size = 10)\n",
    "plt.ylabel('Purchase', size = 10)\n",
    "\n",
    "\n",
    "# City_Category vs Purchase\n",
    "plt.subplot(2,2,3)\n",
    "plt.title('City_Category vs Purchase')\n",
    "sns.barplot(x = 'City_Category', y = 'Purchase', data = df, palette = 'Purples', hue = 'Age')\n",
    "plt.xlabel('City_Category', size = 10)\n",
    "plt.ylabel('Purchase', size = 10)\n",
    "\n",
    "\n",
    "# City_Stay vs Purchase\n",
    "plt.subplot(2,2,4)\n",
    "plt.title('City_Stay vs Purchase')\n",
    "sns.barplot(x = 'City_Stay', y = 'Purchase', data = df, palette = 'mako_r', hue = 'Age')\n",
    "plt.xlabel('City_Stay', size = 10)\n",
    "plt.ylabel('Purchase', size = 10)\n",
    "\n",
    "plt.tight_layout()\n",
    "plt.show()"
   ]
  },
  {
   "cell_type": "markdown",
   "id": "3c07ce84",
   "metadata": {},
   "source": [
    "# Plotting various Products vs Purchase"
   ]
  },
  {
   "cell_type": "code",
   "execution_count": 89,
   "id": "9e2c6bea",
   "metadata": {},
   "outputs": [
    {
     "data": {
      "image/png": "[encoded data removed]",
      "text/plain": [
       "<Figure size 960x800 with 3 Axes>"
      ]
     },
     "metadata": {},
     "output_type": "display_data"
    }
   ],
   "source": [
    "plt.figure(figsize = (12,10), dpi = 80)\n",
    "\n",
    "# 'Product_1 vs Purchase'\n",
    "plt.subplot(2,2,1)\n",
    "plt.title('Product_1 vs Purchase')\n",
    "sns.barplot(x = 'Product1', y = 'Purchase', data = df)\n",
    "plt.xlabel('Product_1')\n",
    "plt.ylabel('Purchase')\n",
    "plt.xticks(rotation = 90)\n",
    "\n",
    "\n",
    "# 'Product_2 vs Purchase'\n",
    "plt.subplot(2,2,2)\n",
    "plt.title('Product_2 vs Purchase')\n",
    "sns.barplot(x = 'Product2', y = 'Purchase', data = df)\n",
    "plt.xlabel('Product_2')\n",
    "plt.ylabel('Purchase')\n",
    "plt.xticks(rotation = 90)\n",
    "          \n",
    "\n",
    "# 'Product_3 vs Purchase'\n",
    "plt.subplot(2,2,3)\n",
    "plt.title('Product_3 vs Purchase')\n",
    "sns.barplot(x = 'Product3', y = 'Purchase', data = df)\n",
    "plt.xlabel('Product_3')\n",
    "plt.ylabel('Purchase')\n",
    "plt.xticks(rotation = 90)\n",
    "\n",
    "plt.tight_layout()\n",
    "plt.show()"
   ]
  },
  {
   "cell_type": "raw",
   "id": "c966311f",
   "metadata": {},
   "source": [
    "As you can see above the graphs,  10th Product of Product_1 has been the most purchased product in comparsion to all the 3 Products i.e. Product 1, Product 2, and Product 3."
   ]
  },
  {
   "cell_type": "markdown",
   "id": "2fb11d6e",
   "metadata": {},
   "source": [
    "# Purchasing Distribution according to Marital status"
   ]
  },
  {
   "cell_type": "code",
   "execution_count": 92,
   "id": "d56bc424",
   "metadata": {},
   "outputs": [
    {
     "data": {
      "image/png": "[encoded data removed]",
      "text/plain": [
       "<Figure size 960x400 with 2 Axes>"
      ]
     },
     "metadata": {},
     "output_type": "display_data"
    }
   ],
   "source": [
    "plt.figure(figsize = (12,5), dpi = 80)\n",
    "\n",
    "# Unmarried vs Purchase\n",
    "plt.subplot(1,2,1)\n",
    "um = df[df['Marital_Status'] == 0].value_counts('Purchase')\n",
    "plt.title('Unmarried vs Purchase', size = 12)\n",
    "sns.kdeplot('Purchase', data = um, color = 'b')\n",
    "\n",
    "# Married vs Purchase\n",
    "plt.subplot(1,2,2)\n",
    "m = df[df['Marital_Status'] == 1].value_counts('Purchase')\n",
    "plt.title('Married vs Purchase', size = 12)\n",
    "sns.kdeplot('Purchase', data = m, color = 'g')\n",
    "\n",
    "plt.tight_layout()\n",
    "plt.show()"
   ]
  },
  {
   "cell_type": "markdown",
   "id": "a54bd259",
   "metadata": {},
   "source": [
    "# Purchasing Distribution according to Gender"
   ]
  },
  {
   "cell_type": "code",
   "execution_count": 94,
   "id": "d8d7aac2",
   "metadata": {},
   "outputs": [
    {
     "data": {
      "image/png": "[encoded data removed]",
      "text/plain": [
       "<Figure size 960x400 with 2 Axes>"
      ]
     },
     "metadata": {},
     "output_type": "display_data"
    }
   ],
   "source": [
    "plt.figure(figsize = (12,5), dpi = 80)\n",
    "\n",
    "# Unmarried vs Purchase\n",
    "plt.subplot(1,2,1)\n",
    "um = df[df['Gender'] == 'M'].value_counts('Purchase')\n",
    "plt.title('Female vs Purchase', size = 12)\n",
    "sns.kdeplot('Purchase', data = um, color = 'b')\n",
    "\n",
    "# Married vs Purchase\n",
    "plt.subplot(1,2,2)\n",
    "m = df[df['Gender'] == 'F'].value_counts('Purchase')\n",
    "plt.title('Male vs Purchase', size = 12)\n",
    "sns.kdeplot('Purchase', data = m, color = 'g')\n",
    "\n",
    "plt.tight_layout()\n",
    "plt.show()"
   ]
  },
  {
   "cell_type": "code",
   "execution_count": 95,
   "id": "e10e7575",
   "metadata": {},
   "outputs": [
    {
     "data": {
      "text/html": [
       "<div>\n",
       "<style scoped>\n",
       "    .dataframe tbody tr th:only-of-type {\n",
       "        vertical-align: middle;\n",
       "    }\n",
       "\n",
       "    .dataframe tbody tr th {\n",
       "        vertical-align: top;\n",
       "    }\n",
       "\n",
       "    .dataframe thead th {\n",
       "        text-align: right;\n",
       "    }\n",
       "</style>\n",
       "<table border=\"1\" class=\"dataframe\">\n",
       "  <thead>\n",
       "    <tr style=\"text-align: right;\">\n",
       "      <th></th>\n",
       "      <th>User_ID</th>\n",
       "      <th>Gender</th>\n",
       "      <th>Age</th>\n",
       "      <th>Occupation</th>\n",
       "      <th>City_Category</th>\n",
       "      <th>City_Stay</th>\n",
       "      <th>Marital_Status</th>\n",
       "      <th>Product1</th>\n",
       "      <th>Product2</th>\n",
       "      <th>Product3</th>\n",
       "      <th>Purchase</th>\n",
       "    </tr>\n",
       "  </thead>\n",
       "  <tbody>\n",
       "    <tr>\n",
       "      <th>0</th>\n",
       "      <td>1000001</td>\n",
       "      <td>F</td>\n",
       "      <td>Child</td>\n",
       "      <td>10</td>\n",
       "      <td>A</td>\n",
       "      <td>2</td>\n",
       "      <td>0</td>\n",
       "      <td>3</td>\n",
       "      <td>10</td>\n",
       "      <td>13</td>\n",
       "      <td>8370.0</td>\n",
       "    </tr>\n",
       "    <tr>\n",
       "      <th>1</th>\n",
       "      <td>1000001</td>\n",
       "      <td>F</td>\n",
       "      <td>Child</td>\n",
       "      <td>10</td>\n",
       "      <td>A</td>\n",
       "      <td>2</td>\n",
       "      <td>0</td>\n",
       "      <td>1</td>\n",
       "      <td>6</td>\n",
       "      <td>14</td>\n",
       "      <td>15200.0</td>\n",
       "    </tr>\n",
       "    <tr>\n",
       "      <th>2</th>\n",
       "      <td>1000001</td>\n",
       "      <td>F</td>\n",
       "      <td>Child</td>\n",
       "      <td>10</td>\n",
       "      <td>A</td>\n",
       "      <td>2</td>\n",
       "      <td>0</td>\n",
       "      <td>12</td>\n",
       "      <td>10</td>\n",
       "      <td>13</td>\n",
       "      <td>1422.0</td>\n",
       "    </tr>\n",
       "    <tr>\n",
       "      <th>3</th>\n",
       "      <td>1000001</td>\n",
       "      <td>F</td>\n",
       "      <td>Child</td>\n",
       "      <td>10</td>\n",
       "      <td>A</td>\n",
       "      <td>2</td>\n",
       "      <td>0</td>\n",
       "      <td>12</td>\n",
       "      <td>14</td>\n",
       "      <td>13</td>\n",
       "      <td>1057.0</td>\n",
       "    </tr>\n",
       "    <tr>\n",
       "      <th>4</th>\n",
       "      <td>1000002</td>\n",
       "      <td>M</td>\n",
       "      <td>Old</td>\n",
       "      <td>16</td>\n",
       "      <td>C</td>\n",
       "      <td>4</td>\n",
       "      <td>0</td>\n",
       "      <td>8</td>\n",
       "      <td>10</td>\n",
       "      <td>13</td>\n",
       "      <td>7969.0</td>\n",
       "    </tr>\n",
       "  </tbody>\n",
       "</table>\n",
       "</div>"
      ],
      "text/plain": [
       "   User_ID Gender    Age  Occupation City_Category  City_Stay  Marital_Status  \\\n",
       "0  1000001      F  Child          10             A          2               0   \n",
       "1  1000001      F  Child          10             A          2               0   \n",
       "2  1000001      F  Child          10             A          2               0   \n",
       "3  1000001      F  Child          10             A          2               0   \n",
       "4  1000002      M    Old          16             C          4               0   \n",
       "\n",
       "   Product1  Product2  Product3  Purchase  \n",
       "0         3        10        13    8370.0  \n",
       "1         1         6        14   15200.0  \n",
       "2        12        10        13    1422.0  \n",
       "3        12        14        13    1057.0  \n",
       "4         8        10        13    7969.0  "
      ]
     },
     "execution_count": 95,
     "metadata": {},
     "output_type": "execute_result"
    }
   ],
   "source": [
    "df.head()"
   ]
  },
  {
   "cell_type": "code",
   "execution_count": 96,
   "id": "a831265e",
   "metadata": {},
   "outputs": [
    {
     "data": {
      "image/png": "[encoded data removed]",
      "text/plain": [
       "<Figure size 1118.22x500 with 2 Axes>"
      ]
     },
     "metadata": {},
     "output_type": "display_data"
    }
   ],
   "source": [
    "sns.catplot(data = df, x = 'Age', col = 'Gender', hue = 'City_Category', palette = 'rocket_r', kind = 'count')\n",
    "plt.show()"
   ]
  },
  {
   "cell_type": "markdown",
   "id": "21772d65",
   "metadata": {},
   "source": [
    "## Questio : Out of the three product categories which is the most consumed product category in each city?"
   ]
  },
  {
   "cell_type": "code",
   "execution_count": 101,
   "id": "e5aacab9",
   "metadata": {},
   "outputs": [
    {
     "name": "stdout",
     "output_type": "stream",
     "text": [
      "{'A': [0, 1, 2, 3, 5, 9, 10, 11, 12, 13, 14, 15, 16, 17, 56, 57, 58, 59, 60, 61, 62, 63, 64, 85, 86, 87, 88, 89, 90, 91, 92, 93, 94, 95, 96, 98, 99, 100, 101, 102, 103, 104, 105, 106, 107, 108, 109, 110, 111, 124, 125, 126, 164, 165, 166, 167, 168, 169, 170, 171, 172, 173, 174, 175, 176, 177, 178, 179, 180, 181, 182, 183, 184, 185, 186, 187, 188, 234, 248, 249, 250, 251, 252, 253, 254, 255, 256, 257, 297, 298, 373, 374, 375, 376, 377, 378, 379, 380, 381, 382, ...], 'B': [6, 7, 8, 18, 29, 30, 31, 32, 33, 34, 35, 36, 37, 38, 39, 40, 41, 42, 43, 44, 45, 46, 70, 71, 72, 73, 74, 75, 76, 77, 78, 79, 80, 81, 82, 83, 84, 97, 112, 113, 114, 115, 116, 117, 118, 119, 120, 121, 122, 123, 130, 131, 132, 133, 134, 135, 136, 137, 138, 139, 140, 141, 196, 197, 198, 199, 200, 201, 202, 203, 204, 205, 206, 207, 208, 209, 210, 211, 212, 213, 214, 215, 216, 217, 218, 220, 221, 235, 236, 237, 238, 239, 240, 241, 242, 243, 244, 245, 246, 247, ...], 'C': [4, 19, 20, 21, 22, 23, 24, 25, 26, 27, 28, 47, 48, 49, 50, 51, 52, 53, 54, 55, 65, 66, 67, 68, 69, 127, 128, 129, 142, 143, 144, 145, 146, 147, 148, 149, 150, 151, 152, 153, 154, 155, 156, 157, 158, 159, 160, 161, 162, 163, 189, 190, 191, 192, 193, 194, 195, 219, 222, 223, 224, 225, 226, 227, 228, 229, 230, 231, 232, 233, 258, 259, 260, 261, 262, 263, 291, 292, 293, 294, 295, 296, 299, 300, 301, 302, 303, 333, 334, 335, 336, 337, 338, 339, 340, 341, 370, 371, 372, 388, ...]}\n"
     ]
    }
   ],
   "source": [
    "# Grouping the dataset o on the basis of the cities\n",
    "\n",
    "df_gp = df.groupby('City_Category')\n",
    "print(df_gp.groups)"
   ]
  },
  {
   "cell_type": "code",
   "execution_count": 102,
   "id": "50b1d6f8",
   "metadata": {},
   "outputs": [
    {
     "data": {
      "text/plain": [
       "dict_keys(['A', 'B', 'C'])"
      ]
     },
     "execution_count": 102,
     "metadata": {},
     "output_type": "execute_result"
    }
   ],
   "source": [
    "# Getting group keys fromm the dataset\n",
    "\n",
    "df_key = df_gp.groups.keys()\n",
    "df_key"
   ]
  },
  {
   "cell_type": "code",
   "execution_count": 106,
   "id": "69ceab3e",
   "metadata": {},
   "outputs": [
    {
     "name": "stdout",
     "output_type": "stream",
     "text": [
      "\n",
      " - City_Category A : \n",
      "\n",
      "Product1     813387\n",
      "Product2    1471578\n",
      "Product3    1907037\n",
      "dtype: int64\n",
      "_\n",
      "\n",
      "\n",
      " - City_Category B : \n",
      "\n",
      "Product1    1242828\n",
      "Product2    2284299\n",
      "Product3    2982602\n",
      "dtype: int64\n",
      "_\n",
      "\n",
      "\n",
      " - City_Category C : \n",
      "\n",
      "Product1     916501\n",
      "Product2    1685451\n",
      "Product3    2205901\n",
      "dtype: int64\n",
      "_\n",
      "\n"
     ]
    }
   ],
   "source": [
    "for i in df_key:\n",
    "    print('\\n - City_Category {} :'.format(i), '\\n')\n",
    "    print(df_gp.get_group(i)[['Product1', 'Product2', 'Product3']].sum().sort_values(ascending = True))\n",
    "    \n",
    "    print('_')\n",
    "    print('')"
   ]
  },
  {
   "cell_type": "markdown",
   "id": "dc116ea2",
   "metadata": {},
   "source": [
    "* Product 3 is the most consumed product in all the three cities where as Product 1 is the least consumed one.\n",
    "\n",
    "### Observation :-\n",
    "\n",
    "1. Males had shown up at stores in large numbers during the sale.\n",
    "    * There is an interesing finding in this analysis. There is a humongus gap between the number of men and women visiting different stores during the Black Friday Sale and making purchases. However, this gap significantly reduces when we look at the amount of purchases made by both the genders.\n",
    "    * This tells perhaps women spent money on products with high MRP. Or another possibility could be that they bought large quatities of the product.\n",
    "    \n",
    "1. During the sale adults between the age group of 26 to 50 years visited the stores and made purchases in large numbers.\n",
    "    * However, the purchasing power can be seen high among the people of older generation (51 to 55+ years of age). This means that older people spent more money than any other generations.\n",
    "    * While it is least among the children (0 to 17 years).\n",
    "    \n",
    "1. In City B maximum people made purchases.\n",
    "\n",
    "1. Unmarried People did maximum purchasing\n",
    "\n",
    "1. People made maximum purchases in between the range of 5,000 to 10,000.\n",
    "\n",
    "1. In Product 1 and Product 2 graph it can be seen that their 10th product is purchased the most while 3rd product of Product 3 is more purchesd in comparission to other products of Product 3.\n",
    "\n",
    "1. It can also be seen from these graphs that the 10th Product of Product 1 has been the most purchased product in comparsion to all the 3 Product i.e. Product 1, Product 2, and Product 3.\n",
    "\n",
    "1. Male children who have been living in City A for two years have the maximum pruchase mean. While Female and Male children who have been living in the City A for four or more years have the minimum purchase mean.\n",
    "\n",
    "### Result :-\n",
    "The data set given to us was dirty.\n",
    "\n",
    "To clean the Pandas and Numpy was used. Null values were treated. Outlier were checked and were appropriately adjusted using capping. After cleaning we used Seaborn and Matplotlib libraries for data visualization to draw important obvervations."
   ]
  },
  {
   "cell_type": "code",
   "execution_count": null,
   "id": "382802a3",
   "metadata": {},
   "outputs": [],
   "source": []
  }
 ],
 "metadata": {
  "kernelspec": {
   "display_name": "Python 3 (ipykernel)",
   "language": "python",
   "name": "python3"
  },
  "language_info": {
   "codemirror_mode": {
    "name": "ipython",
    "version": 3
   },
   "file_extension": ".py",
   "mimetype": "text/x-python",
   "name": "python",
   "nbconvert_exporter": "python",
   "pygments_lexer": "ipython3",
   "version": "3.9.13"
  }
 },
 "nbformat": 4,
 "nbformat_minor": 5
}
